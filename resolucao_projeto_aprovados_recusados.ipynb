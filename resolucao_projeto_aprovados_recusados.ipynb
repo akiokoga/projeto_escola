{
 "cells": [
  {
   "cell_type": "code",
   "execution_count": 155,
   "metadata": {},
   "outputs": [],
   "source": [
    "import pandas as pd\n",
    "import numpy as np\n",
    "import matplotlib.pyplot as plt"
   ]
  },
  {
   "cell_type": "code",
   "execution_count": 156,
   "metadata": {},
   "outputs": [],
   "source": [
    "df_novos_alunos = pd.read_csv('C://Users//HENRIQUE//Documents//processo_seletivo_escola//Case Vaga Estágio - Candidatos a Alunos.csv')"
   ]
  },
  {
   "cell_type": "code",
   "execution_count": 158,
   "metadata": {},
   "outputs": [
    {
     "data": {
      "text/html": [
       "<div>\n",
       "<style scoped>\n",
       "    .dataframe tbody tr th:only-of-type {\n",
       "        vertical-align: middle;\n",
       "    }\n",
       "\n",
       "    .dataframe tbody tr th {\n",
       "        vertical-align: top;\n",
       "    }\n",
       "\n",
       "    .dataframe thead th {\n",
       "        text-align: right;\n",
       "    }\n",
       "</style>\n",
       "<table border=\"1\" class=\"dataframe\">\n",
       "  <thead>\n",
       "    <tr style=\"text-align: right;\">\n",
       "      <th></th>\n",
       "      <th>Possível aluno</th>\n",
       "      <th>Deve? (Sim ou Não)</th>\n",
       "      <th>Sim? Quanto?</th>\n",
       "      <th>Score</th>\n",
       "      <th>Chance de Pagamento (%)</th>\n",
       "      <th>Valor Mínimo de Salário</th>\n",
       "    </tr>\n",
       "  </thead>\n",
       "  <tbody>\n",
       "    <tr>\n",
       "      <th>0</th>\n",
       "      <td>xxx</td>\n",
       "      <td>não</td>\n",
       "      <td>-</td>\n",
       "      <td>871</td>\n",
       "      <td>93,05</td>\n",
       "      <td>-</td>\n",
       "    </tr>\n",
       "    <tr>\n",
       "      <th>1</th>\n",
       "      <td>xxx</td>\n",
       "      <td>não</td>\n",
       "      <td>-</td>\n",
       "      <td>498</td>\n",
       "      <td>66,56</td>\n",
       "      <td>2.001</td>\n",
       "    </tr>\n",
       "    <tr>\n",
       "      <th>2</th>\n",
       "      <td>xxx</td>\n",
       "      <td>não</td>\n",
       "      <td>-</td>\n",
       "      <td>974</td>\n",
       "      <td>95,50</td>\n",
       "      <td>3.001</td>\n",
       "    </tr>\n",
       "    <tr>\n",
       "      <th>3</th>\n",
       "      <td>xxx</td>\n",
       "      <td>não</td>\n",
       "      <td>-</td>\n",
       "      <td>790</td>\n",
       "      <td>88,20</td>\n",
       "      <td>acima de 10.000</td>\n",
       "    </tr>\n",
       "    <tr>\n",
       "      <th>4</th>\n",
       "      <td>xxx</td>\n",
       "      <td>não</td>\n",
       "      <td>-</td>\n",
       "      <td>816</td>\n",
       "      <td>93,05</td>\n",
       "      <td>-</td>\n",
       "    </tr>\n",
       "  </tbody>\n",
       "</table>\n",
       "</div>"
      ],
      "text/plain": [
       "  Possível aluno Deve? (Sim ou Não) Sim? Quanto? Score  \\\n",
       "0            xxx                não            -   871   \n",
       "1            xxx                não            -   498   \n",
       "2            xxx                não            -   974   \n",
       "3            xxx                não            -   790   \n",
       "4            xxx                não            -   816   \n",
       "\n",
       "  Chance de Pagamento (%) Valor Mínimo de Salário  \n",
       "0                   93,05                       -  \n",
       "1                   66,56                   2.001  \n",
       "2                   95,50                   3.001  \n",
       "3                   88,20         acima de 10.000  \n",
       "4                   93,05                       -  "
      ]
     },
     "execution_count": 158,
     "metadata": {},
     "output_type": "execute_result"
    }
   ],
   "source": [
    "df_novos_alunos.head()"
   ]
  },
  {
   "cell_type": "code",
   "execution_count": 160,
   "metadata": {},
   "outputs": [
    {
     "data": {
      "text/plain": [
       "Possível aluno             object\n",
       "Deve? (Sim ou Não)         object\n",
       "Sim? Quanto?               object\n",
       "Score                      object\n",
       "Chance de Pagamento (%)    object\n",
       "Valor Mínimo de Salário    object\n",
       "dtype: object"
      ]
     },
     "execution_count": 160,
     "metadata": {},
     "output_type": "execute_result"
    }
   ],
   "source": [
    "df_novos_alunos.dtypes"
   ]
  },
  {
   "cell_type": "markdown",
   "metadata": {},
   "source": [
    "# REALIZANDO A LIMPEZA E CONVERSÃO DOS DADOS"
   ]
  },
  {
   "cell_type": "markdown",
   "metadata": {},
   "source": [
    "## Coluna 'Deve? (Sim ou Não)'"
   ]
  },
  {
   "cell_type": "code",
   "execution_count": 164,
   "metadata": {},
   "outputs": [
    {
     "data": {
      "text/plain": [
       "array(['não', 'sim', 'não ', 'Não', 'Sim', '2,99'], dtype=object)"
      ]
     },
     "execution_count": 164,
     "metadata": {},
     "output_type": "execute_result"
    }
   ],
   "source": [
    "df_novos_alunos['Deve? (Sim ou Não)'].unique()"
   ]
  },
  {
   "cell_type": "code",
   "execution_count": 165,
   "metadata": {},
   "outputs": [
    {
     "data": {
      "text/html": [
       "<div>\n",
       "<style scoped>\n",
       "    .dataframe tbody tr th:only-of-type {\n",
       "        vertical-align: middle;\n",
       "    }\n",
       "\n",
       "    .dataframe tbody tr th {\n",
       "        vertical-align: top;\n",
       "    }\n",
       "\n",
       "    .dataframe thead th {\n",
       "        text-align: right;\n",
       "    }\n",
       "</style>\n",
       "<table border=\"1\" class=\"dataframe\">\n",
       "  <thead>\n",
       "    <tr style=\"text-align: right;\">\n",
       "      <th></th>\n",
       "      <th>Possível aluno</th>\n",
       "      <th>Deve? (Sim ou Não)</th>\n",
       "      <th>Sim? Quanto?</th>\n",
       "      <th>Score</th>\n",
       "      <th>Chance de Pagamento (%)</th>\n",
       "      <th>Valor Mínimo de Salário</th>\n",
       "    </tr>\n",
       "  </thead>\n",
       "  <tbody>\n",
       "    <tr>\n",
       "      <th>404</th>\n",
       "      <td>xxx</td>\n",
       "      <td>2,99</td>\n",
       "      <td>-</td>\n",
       "      <td>841</td>\n",
       "      <td>93,05</td>\n",
       "      <td>-</td>\n",
       "    </tr>\n",
       "  </tbody>\n",
       "</table>\n",
       "</div>"
      ],
      "text/plain": [
       "    Possível aluno Deve? (Sim ou Não) Sim? Quanto? Score  \\\n",
       "404            xxx               2,99            -   841   \n",
       "\n",
       "    Chance de Pagamento (%) Valor Mínimo de Salário  \n",
       "404                   93,05                       -  "
      ]
     },
     "execution_count": 165,
     "metadata": {},
     "output_type": "execute_result"
    }
   ],
   "source": [
    "df_novos_alunos[df_novos_alunos['Deve? (Sim ou Não)'] == '2,99']"
   ]
  },
  {
   "cell_type": "code",
   "execution_count": 166,
   "metadata": {},
   "outputs": [],
   "source": [
    "df_novos_alunos['Deve? (Sim ou Não)'] = df_novos_alunos['Deve? (Sim ou Não)'].map({'sim ': 'sim',\n",
    "                                                                                'sim': 'sim',\n",
    "                                                                                'não ': 'não',\n",
    "                                                                                'não': 'não',\n",
    "                                                                                '2,99': '-'})"
   ]
  },
  {
   "cell_type": "code",
   "execution_count": 167,
   "metadata": {},
   "outputs": [],
   "source": [
    "df_novos_alunos['Deve? (Sim ou Não)'] = df_novos_alunos['Deve? (Sim ou Não)'].fillna('-')"
   ]
  },
  {
   "cell_type": "code",
   "execution_count": 168,
   "metadata": {},
   "outputs": [
    {
     "data": {
      "text/html": [
       "<div>\n",
       "<style scoped>\n",
       "    .dataframe tbody tr th:only-of-type {\n",
       "        vertical-align: middle;\n",
       "    }\n",
       "\n",
       "    .dataframe tbody tr th {\n",
       "        vertical-align: top;\n",
       "    }\n",
       "\n",
       "    .dataframe thead th {\n",
       "        text-align: right;\n",
       "    }\n",
       "</style>\n",
       "<table border=\"1\" class=\"dataframe\">\n",
       "  <thead>\n",
       "    <tr style=\"text-align: right;\">\n",
       "      <th></th>\n",
       "      <th>Possível aluno</th>\n",
       "      <th>Deve? (Sim ou Não)</th>\n",
       "      <th>Sim? Quanto?</th>\n",
       "      <th>Score</th>\n",
       "      <th>Chance de Pagamento (%)</th>\n",
       "      <th>Valor Mínimo de Salário</th>\n",
       "    </tr>\n",
       "  </thead>\n",
       "  <tbody>\n",
       "    <tr>\n",
       "      <th>count</th>\n",
       "      <td>494</td>\n",
       "      <td>494</td>\n",
       "      <td>491</td>\n",
       "      <td>494</td>\n",
       "      <td>494</td>\n",
       "      <td>493</td>\n",
       "    </tr>\n",
       "    <tr>\n",
       "      <th>unique</th>\n",
       "      <td>1</td>\n",
       "      <td>3</td>\n",
       "      <td>39</td>\n",
       "      <td>291</td>\n",
       "      <td>39</td>\n",
       "      <td>19</td>\n",
       "    </tr>\n",
       "    <tr>\n",
       "      <th>top</th>\n",
       "      <td>xxx</td>\n",
       "      <td>não</td>\n",
       "      <td>-</td>\n",
       "      <td>974</td>\n",
       "      <td>95,50</td>\n",
       "      <td>-</td>\n",
       "    </tr>\n",
       "    <tr>\n",
       "      <th>freq</th>\n",
       "      <td>494</td>\n",
       "      <td>355</td>\n",
       "      <td>449</td>\n",
       "      <td>8</td>\n",
       "      <td>119</td>\n",
       "      <td>135</td>\n",
       "    </tr>\n",
       "  </tbody>\n",
       "</table>\n",
       "</div>"
      ],
      "text/plain": [
       "       Possível aluno Deve? (Sim ou Não) Sim? Quanto? Score  \\\n",
       "count             494                494          491   494   \n",
       "unique              1                  3           39   291   \n",
       "top               xxx                não            -   974   \n",
       "freq              494                355          449     8   \n",
       "\n",
       "       Chance de Pagamento (%) Valor Mínimo de Salário  \n",
       "count                      494                     493  \n",
       "unique                      39                      19  \n",
       "top                      95,50                       -  \n",
       "freq                       119                     135  "
      ]
     },
     "execution_count": 168,
     "metadata": {},
     "output_type": "execute_result"
    }
   ],
   "source": [
    "df_novos_alunos.describe()"
   ]
  },
  {
   "cell_type": "code",
   "execution_count": 169,
   "metadata": {},
   "outputs": [],
   "source": [
    "# Precisamos classificar Deve? (Sim ou não) como SIM"
   ]
  },
  {
   "cell_type": "code",
   "execution_count": 170,
   "metadata": {},
   "outputs": [
    {
     "data": {
      "text/html": [
       "<div>\n",
       "<style scoped>\n",
       "    .dataframe tbody tr th:only-of-type {\n",
       "        vertical-align: middle;\n",
       "    }\n",
       "\n",
       "    .dataframe tbody tr th {\n",
       "        vertical-align: top;\n",
       "    }\n",
       "\n",
       "    .dataframe thead th {\n",
       "        text-align: right;\n",
       "    }\n",
       "</style>\n",
       "<table border=\"1\" class=\"dataframe\">\n",
       "  <thead>\n",
       "    <tr style=\"text-align: right;\">\n",
       "      <th></th>\n",
       "      <th>Possível aluno</th>\n",
       "      <th>Deve? (Sim ou Não)</th>\n",
       "      <th>Sim? Quanto?</th>\n",
       "      <th>Score</th>\n",
       "      <th>Chance de Pagamento (%)</th>\n",
       "      <th>Valor Mínimo de Salário</th>\n",
       "    </tr>\n",
       "  </thead>\n",
       "  <tbody>\n",
       "    <tr>\n",
       "      <th>295</th>\n",
       "      <td>xxx</td>\n",
       "      <td>-</td>\n",
       "      <td>18448.1</td>\n",
       "      <td>251</td>\n",
       "      <td>0.1787</td>\n",
       "      <td>7001</td>\n",
       "    </tr>\n",
       "    <tr>\n",
       "      <th>297</th>\n",
       "      <td>xxx</td>\n",
       "      <td>-</td>\n",
       "      <td>936.97</td>\n",
       "      <td>140</td>\n",
       "      <td>0.0299</td>\n",
       "      <td>7001</td>\n",
       "    </tr>\n",
       "    <tr>\n",
       "      <th>305</th>\n",
       "      <td>xxx</td>\n",
       "      <td>-</td>\n",
       "      <td>26889.86</td>\n",
       "      <td>105</td>\n",
       "      <td>0.0299</td>\n",
       "      <td>acima de 10.000</td>\n",
       "    </tr>\n",
       "    <tr>\n",
       "      <th>311</th>\n",
       "      <td>xxx</td>\n",
       "      <td>-</td>\n",
       "      <td>6894.79</td>\n",
       "      <td>96</td>\n",
       "      <td>0.0086</td>\n",
       "      <td>1001</td>\n",
       "    </tr>\n",
       "    <tr>\n",
       "      <th>320</th>\n",
       "      <td>xxx</td>\n",
       "      <td>-</td>\n",
       "      <td>5018.66</td>\n",
       "      <td>290</td>\n",
       "      <td>0.1787</td>\n",
       "      <td>1001</td>\n",
       "    </tr>\n",
       "    <tr>\n",
       "      <th>321</th>\n",
       "      <td>xxx</td>\n",
       "      <td>-</td>\n",
       "      <td>121.5</td>\n",
       "      <td>366</td>\n",
       "      <td>0.4969</td>\n",
       "      <td>3001</td>\n",
       "    </tr>\n",
       "    <tr>\n",
       "      <th>356</th>\n",
       "      <td>xxx</td>\n",
       "      <td>-</td>\n",
       "      <td>5545.91</td>\n",
       "      <td>81</td>\n",
       "      <td>0.86</td>\n",
       "      <td>1001</td>\n",
       "    </tr>\n",
       "    <tr>\n",
       "      <th>376</th>\n",
       "      <td>xxx</td>\n",
       "      <td>-</td>\n",
       "      <td>4985.26</td>\n",
       "      <td>32</td>\n",
       "      <td>0.86</td>\n",
       "      <td>2001</td>\n",
       "    </tr>\n",
       "    <tr>\n",
       "      <th>384</th>\n",
       "      <td>xxx</td>\n",
       "      <td>-</td>\n",
       "      <td>216.66</td>\n",
       "      <td>225</td>\n",
       "      <td>17.87</td>\n",
       "      <td>2001</td>\n",
       "    </tr>\n",
       "  </tbody>\n",
       "</table>\n",
       "</div>"
      ],
      "text/plain": [
       "    Possível aluno Deve? (Sim ou Não) Sim? Quanto? Score  \\\n",
       "295            xxx                  -      18448.1   251   \n",
       "297            xxx                  -       936.97   140   \n",
       "305            xxx                  -     26889.86   105   \n",
       "311            xxx                  -      6894.79    96   \n",
       "320            xxx                  -      5018.66   290   \n",
       "321            xxx                  -        121.5   366   \n",
       "356            xxx                  -      5545.91    81   \n",
       "376            xxx                  -      4985.26    32   \n",
       "384            xxx                  -       216.66   225   \n",
       "\n",
       "    Chance de Pagamento (%) Valor Mínimo de Salário  \n",
       "295                  0.1787                    7001  \n",
       "297                  0.0299                    7001  \n",
       "305                  0.0299         acima de 10.000  \n",
       "311                  0.0086                    1001  \n",
       "320                  0.1787                    1001  \n",
       "321                  0.4969                    3001  \n",
       "356                    0.86                    1001  \n",
       "376                    0.86                    2001  \n",
       "384                   17.87                    2001  "
      ]
     },
     "execution_count": 170,
     "metadata": {},
     "output_type": "execute_result"
    }
   ],
   "source": [
    "df_novos_alunos[(df_novos_alunos['Deve? (Sim ou Não)'] == '-') & (df_novos_alunos['Sim? Quanto?'] != '-')]"
   ]
  },
  {
   "cell_type": "code",
   "execution_count": 171,
   "metadata": {},
   "outputs": [],
   "source": [
    "df_novos_alunos['Deve? (Sim ou Não)'].iloc[295] = 'sim'\n",
    "df_novos_alunos['Deve? (Sim ou Não)'].iloc[297] = 'sim'\n",
    "df_novos_alunos['Deve? (Sim ou Não)'].iloc[305] = 'sim'\n",
    "df_novos_alunos['Deve? (Sim ou Não)'].iloc[311] = 'sim'\n",
    "df_novos_alunos['Deve? (Sim ou Não)'].iloc[320] = 'sim'\n",
    "df_novos_alunos['Deve? (Sim ou Não)'].iloc[321] = 'sim'\n",
    "df_novos_alunos['Deve? (Sim ou Não)'].iloc[356] = 'sim'\n",
    "df_novos_alunos['Deve? (Sim ou Não)'].iloc[376] = 'sim'\n",
    "df_novos_alunos['Deve? (Sim ou Não)'].iloc[384] = 'sim'"
   ]
  },
  {
   "cell_type": "markdown",
   "metadata": {},
   "source": [
    "## Coluna 'Sim? Quanto?'"
   ]
  },
  {
   "cell_type": "code",
   "execution_count": 176,
   "metadata": {},
   "outputs": [
    {
     "data": {
      "text/plain": [
       "array(['-', '40.878,87', '51.876,99', nan, '2.081,6', '885,75',\n",
       "       'R$ 2.145,14', 'R$ 3.057,49', '6.059,83', '22.407,42', '5.298,24',\n",
       "       'R$ 44.929,79', 'R$ 68,17', 'R$ 691,15', 'R$ 200,78',\n",
       "       'R$ 5.890,96', 'R$ 310,72', 'R$ 2.839,16', 'R$ 575,95',\n",
       "       'R$ 5.134,22', 'R$ 2.917,06', '8.236,69', 'R$ 1.029,67',\n",
       "       'R$ 59.160,21', 'R$ 10.845,69', '18448.1', '936.97', '26889.86',\n",
       "       '285,10\\t', '6894.79', '5018.66', '121.5', '5545.91', '4985.26',\n",
       "       '216.66', 'R$ 3.342,17', 'R$ 6.414,28', 'R$ 5.803,97', 'R$ 158,08',\n",
       "       'R$ 927,80'], dtype=object)"
      ]
     },
     "execution_count": 176,
     "metadata": {},
     "output_type": "execute_result"
    }
   ],
   "source": [
    "df_novos_alunos['Sim? Quanto?'].unique()"
   ]
  },
  {
   "cell_type": "code",
   "execution_count": 177,
   "metadata": {},
   "outputs": [
    {
     "data": {
      "text/plain": [
       "array(['-', '40878.87', '51876.99', nan, '2081.6', '885.75', '2145.14',\n",
       "       '3057.49', '6059.83', '22407.42', '5298.24', '44929.79', '68.17',\n",
       "       '691.15', '200.78', '5890.96', '310.72', '2839.16', '575.95',\n",
       "       '5134.22', '2917.06', '8236.69', '1029.67', '59160.21', '10845.69',\n",
       "       '184481', '93697', '2688986', '285.10', '689479', '501866', '1215',\n",
       "       '554591', '498526', '21666', '3342.17', '6414.28', '5803.97',\n",
       "       '158.08', '927.80'], dtype=object)"
      ]
     },
     "execution_count": 177,
     "metadata": {},
     "output_type": "execute_result"
    }
   ],
   "source": [
    "df_novos_alunos['Sim? Quanto?'] = df_novos_alunos['Sim? Quanto?'].str.replace('.', '')\n",
    "df_novos_alunos['Sim? Quanto?'] = df_novos_alunos['Sim? Quanto?'].str.replace('\\t', '')\n",
    "df_novos_alunos['Sim? Quanto?'] = df_novos_alunos['Sim? Quanto?'].str.replace(' ', '')\n",
    "df_novos_alunos['Sim? Quanto?'] = df_novos_alunos['Sim? Quanto?'].str.replace('R', '')\n",
    "df_novos_alunos['Sim? Quanto?'] = df_novos_alunos['Sim? Quanto?'].str.replace('$', '')\n",
    "df_novos_alunos['Sim? Quanto?'] = df_novos_alunos['Sim? Quanto?'].str.replace(',', '.')\n",
    "df_novos_alunos['Sim? Quanto?'].unique()"
   ]
  },
  {
   "cell_type": "code",
   "execution_count": 178,
   "metadata": {},
   "outputs": [],
   "source": [
    "df_novos_alunos['Sim? Quanto?'] = df_novos_alunos['Sim? Quanto?'].fillna('-')"
   ]
  },
  {
   "cell_type": "code",
   "execution_count": 179,
   "metadata": {},
   "outputs": [
    {
     "data": {
      "text/plain": [
       "array(['-', '40878.87', '51876.99', '2081.6', '885.75', '2145.14',\n",
       "       '3057.49', '6059.83', '22407.42', '5298.24', '44929.79', '68.17',\n",
       "       '691.15', '200.78', '5890.96', '310.72', '2839.16', '575.95',\n",
       "       '5134.22', '2917.06', '8236.69', '1029.67', '59160.21', '10845.69',\n",
       "       '184481', '93697', '2688986', '285.10', '689479', '501866', '1215',\n",
       "       '554591', '498526', '21666', '3342.17', '6414.28', '5803.97',\n",
       "       '158.08', '927.80'], dtype=object)"
      ]
     },
     "execution_count": 179,
     "metadata": {},
     "output_type": "execute_result"
    }
   ],
   "source": [
    "df_novos_alunos['Sim? Quanto?'].unique()"
   ]
  },
  {
   "cell_type": "markdown",
   "metadata": {},
   "source": [
    "## Coluna 'Score'"
   ]
  },
  {
   "cell_type": "code",
   "execution_count": 181,
   "metadata": {},
   "outputs": [
    {
     "data": {
      "text/plain": [
       "array(['871', '498', '974', '790', '816', '922', '169', '966', '433',\n",
       "       '314', '831', '51.876,99', '952', '349', '327', '240', '873',\n",
       "       '395', '948', '898', '969', '858', '574', '683', '829', '540',\n",
       "       '604', '596', '32', '408', '383', '999', '569', '768', '58', '515',\n",
       "       '995', '928', '1000', '987', '362', '963', '621', '973', '552',\n",
       "       '810', '855', '454', '406', '847', '917', '971', '937', '959',\n",
       "       '524', '976', '895', '196', '945', '460', '691', '252', '997',\n",
       "       '251', '840', '216', '641', '970', '590', '418', '752', '890',\n",
       "       '84', '972', '437', '629', '587', '686', '913', '815', '492',\n",
       "       '788', '513', '813', '522', '16', '817', '939', '602', '865',\n",
       "       '967', '841', '882', '809', '440', '781', '984', '993', '951',\n",
       "       '991', '435', '626', '516', '676', '588', '405', '909', '784',\n",
       "       '571', '793', '455', '576', '494', '371', '468', '335', '328',\n",
       "       '885', '965', '860', '981', '441', '62', '730', '394', '958',\n",
       "       '448', '256', '388', '961', '664', '953', '617', '384', '741',\n",
       "       '354', '986', '777', '489', '929', '964', '502', '954', '906',\n",
       "       '476', '348', '648', '533', '943', '830', '915', '484', '253',\n",
       "       '955', '478', '962', '850', '979', '868', '710', '404', '541',\n",
       "       '763', '926', '941', '554', '806', '531', '935', '438', '960',\n",
       "       '914', '826', '467', '417', '523', '181', '932', '727', '234',\n",
       "       '760', '54', '879', '536', '886', '862', '985', '702', '933',\n",
       "       '488', '834', '983', '757', '228', '545', '150', '762', '409',\n",
       "       '428', '990', '968', '377', '892', '573', '443', '140', '364',\n",
       "       '654', '105', '918', '717', '96', '363', '857', '290', '366',\n",
       "       '612', '877', '848', '439', '712', '820', '714', '902', '908',\n",
       "       '624', '980', '837', '705', '743', '81', '771', '669', '988',\n",
       "       '360', '661', '720', '359', '426', '863', '735', '911', '225',\n",
       "       '800', '920', '910', '947', '876', '905', '166', '403', '430',\n",
       "       '379', '544', '859', '639', '372', '782', '693', '875', '385',\n",
       "       '568', '491', '843', '884', '989', '709', '566', '707', '924',\n",
       "       '946', '656', '754', '260', '429', '636', '69', '326', '378',\n",
       "       '434', '310', '304', '802', '353', '558', '485', '382', '452',\n",
       "       '120', '411', '662'], dtype=object)"
      ]
     },
     "execution_count": 181,
     "metadata": {},
     "output_type": "execute_result"
    }
   ],
   "source": [
    "df_novos_alunos['Score'].unique()"
   ]
  },
  {
   "cell_type": "code",
   "execution_count": 182,
   "metadata": {},
   "outputs": [
    {
     "data": {
      "text/html": [
       "<div>\n",
       "<style scoped>\n",
       "    .dataframe tbody tr th:only-of-type {\n",
       "        vertical-align: middle;\n",
       "    }\n",
       "\n",
       "    .dataframe tbody tr th {\n",
       "        vertical-align: top;\n",
       "    }\n",
       "\n",
       "    .dataframe thead th {\n",
       "        text-align: right;\n",
       "    }\n",
       "</style>\n",
       "<table border=\"1\" class=\"dataframe\">\n",
       "  <thead>\n",
       "    <tr style=\"text-align: right;\">\n",
       "      <th></th>\n",
       "      <th>Possível aluno</th>\n",
       "      <th>Deve? (Sim ou Não)</th>\n",
       "      <th>Sim? Quanto?</th>\n",
       "      <th>Score</th>\n",
       "      <th>Chance de Pagamento (%)</th>\n",
       "      <th>Valor Mínimo de Salário</th>\n",
       "    </tr>\n",
       "  </thead>\n",
       "  <tbody>\n",
       "    <tr>\n",
       "      <th>12</th>\n",
       "      <td>xxx</td>\n",
       "      <td>não</td>\n",
       "      <td>-</td>\n",
       "      <td>51.876,99</td>\n",
       "      <td>95,50</td>\n",
       "      <td>7.001</td>\n",
       "    </tr>\n",
       "  </tbody>\n",
       "</table>\n",
       "</div>"
      ],
      "text/plain": [
       "   Possível aluno Deve? (Sim ou Não) Sim? Quanto?      Score  \\\n",
       "12            xxx                não            -  51.876,99   \n",
       "\n",
       "   Chance de Pagamento (%) Valor Mínimo de Salário  \n",
       "12                   95,50                   7.001  "
      ]
     },
     "execution_count": 182,
     "metadata": {},
     "output_type": "execute_result"
    }
   ],
   "source": [
    "valores_estranhos = df_novos_alunos[df_novos_alunos['Score'] == '51.876,99']\n",
    "valores_estranhos"
   ]
  },
  {
   "cell_type": "code",
   "execution_count": 183,
   "metadata": {},
   "outputs": [],
   "source": [
    "df_novos_alunos = df_novos_alunos[df_novos_alunos['Score'] != '51.876,99']"
   ]
  },
  {
   "cell_type": "markdown",
   "metadata": {},
   "source": [
    "## Coluna 'Chance de pagamento'"
   ]
  },
  {
   "cell_type": "code",
   "execution_count": 187,
   "metadata": {},
   "outputs": [
    {
     "data": {
      "text/plain": [
       "array(['93,05', '66,56', '95,50', '88,20', '2,99', '49,69', '49,49',\n",
       "       '17,87', '77,51', '83,12', '0,86', '66,65', '95,50  ', '83,12 ',\n",
       "       '88,20 ', '0.4969', '0.9305', '0.955', '95,50%', '0.7751',\n",
       "       '0.1787', '0.6656', '0.0299', '0.8312', '17,87%', '95.5', '88.2',\n",
       "       '0.0086', '77,51%', '0.882', '88,20%', '0.86', '83.12', '77.51',\n",
       "       '49.69', '66.56', '93.05', '17.87', '46,69'], dtype=object)"
      ]
     },
     "execution_count": 187,
     "metadata": {},
     "output_type": "execute_result"
    }
   ],
   "source": [
    "df_novos_alunos['Chance de Pagamento (%)'].unique()"
   ]
  },
  {
   "cell_type": "code",
   "execution_count": 188,
   "metadata": {},
   "outputs": [
    {
     "data": {
      "text/html": [
       "<div>\n",
       "<style scoped>\n",
       "    .dataframe tbody tr th:only-of-type {\n",
       "        vertical-align: middle;\n",
       "    }\n",
       "\n",
       "    .dataframe tbody tr th {\n",
       "        vertical-align: top;\n",
       "    }\n",
       "\n",
       "    .dataframe thead th {\n",
       "        text-align: right;\n",
       "    }\n",
       "</style>\n",
       "<table border=\"1\" class=\"dataframe\">\n",
       "  <thead>\n",
       "    <tr style=\"text-align: right;\">\n",
       "      <th></th>\n",
       "      <th>Possível aluno</th>\n",
       "      <th>Deve? (Sim ou Não)</th>\n",
       "      <th>Sim? Quanto?</th>\n",
       "      <th>Score</th>\n",
       "      <th>Chance de Pagamento (%)</th>\n",
       "      <th>Valor Mínimo de Salário</th>\n",
       "    </tr>\n",
       "  </thead>\n",
       "  <tbody>\n",
       "    <tr>\n",
       "      <th>12</th>\n",
       "      <td>xxx</td>\n",
       "      <td>não</td>\n",
       "      <td>-</td>\n",
       "      <td>51.876,99</td>\n",
       "      <td>95,50</td>\n",
       "      <td>7.001</td>\n",
       "    </tr>\n",
       "    <tr>\n",
       "      <th>311</th>\n",
       "      <td>xxx</td>\n",
       "      <td>sim</td>\n",
       "      <td>689479</td>\n",
       "      <td>96</td>\n",
       "      <td>0.0086</td>\n",
       "      <td>1001</td>\n",
       "    </tr>\n",
       "  </tbody>\n",
       "</table>\n",
       "</div>"
      ],
      "text/plain": [
       "    Possível aluno Deve? (Sim ou Não) Sim? Quanto?      Score  \\\n",
       "12             xxx                não            -  51.876,99   \n",
       "311            xxx                sim       689479         96   \n",
       "\n",
       "    Chance de Pagamento (%) Valor Mínimo de Salário  \n",
       "12                    95,50                   7.001  \n",
       "311                  0.0086                    1001  "
      ]
     },
     "execution_count": 188,
     "metadata": {},
     "output_type": "execute_result"
    }
   ],
   "source": [
    "valores_estranhos = pd.concat([valores_estranhos, df_novos_alunos[df_novos_alunos['Chance de Pagamento (%)'] == '0.0086']])\n",
    "valores_estranhos"
   ]
  },
  {
   "cell_type": "code",
   "execution_count": 189,
   "metadata": {},
   "outputs": [
    {
     "data": {
      "text/plain": [
       "0      93,05\n",
       "1      66,56\n",
       "2      95,50\n",
       "3      88,20\n",
       "4      93,05\n",
       "       ...  \n",
       "489     2,99\n",
       "490    66,56\n",
       "491    49,69\n",
       "492    83,12\n",
       "493    95,50\n",
       "Name: Chance de Pagamento (%), Length: 493, dtype: object"
      ]
     },
     "execution_count": 189,
     "metadata": {},
     "output_type": "execute_result"
    }
   ],
   "source": [
    "df_novos_alunos['Chance de Pagamento (%)']"
   ]
  },
  {
   "cell_type": "code",
   "execution_count": 190,
   "metadata": {},
   "outputs": [
    {
     "data": {
      "text/plain": [
       "array(['93.05', '66.56', '95.50', '88.20', '2.99', '49.69', '49.49',\n",
       "       '17.87', '77.51', '83.12', '0.86', '66.65', '0.4969', '0.9305',\n",
       "       '0.955', '0.7751', '0.1787', '0.6656', '0.0299', '0.8312', '95.5',\n",
       "       '88.2', '0.0086', '0.882', '46.69'], dtype=object)"
      ]
     },
     "execution_count": 190,
     "metadata": {},
     "output_type": "execute_result"
    }
   ],
   "source": [
    "df_novos_alunos['Chance de Pagamento (%)'] = df_novos_alunos['Chance de Pagamento (%)'].str.replace('%', '')\n",
    "df_novos_alunos['Chance de Pagamento (%)'] = df_novos_alunos['Chance de Pagamento (%)'].str.replace(' ', '')\n",
    "df_novos_alunos['Chance de Pagamento (%)'] = df_novos_alunos['Chance de Pagamento (%)'].str.replace(',', '.')\n",
    "df_novos_alunos['Chance de Pagamento (%)'].unique()"
   ]
  },
  {
   "cell_type": "markdown",
   "metadata": {},
   "source": [
    "## Coluna 'Valor Mínimo de salário'"
   ]
  },
  {
   "cell_type": "code",
   "execution_count": 196,
   "metadata": {},
   "outputs": [
    {
     "data": {
      "text/plain": [
       "array(['-', '2.001', '3.001', 'acima de 10.000', '5.001', '4.001',\n",
       "       '1.001', '7.001', 'acima de 10.000 ', 'acima 10.000', '- ', '3001',\n",
       "       '10000', '4001', '2001', '7001', '1001', '5001', '70001', nan],\n",
       "      dtype=object)"
      ]
     },
     "execution_count": 196,
     "metadata": {},
     "output_type": "execute_result"
    }
   ],
   "source": [
    "df_novos_alunos['Valor Mínimo de Salário'].unique()"
   ]
  },
  {
   "cell_type": "code",
   "execution_count": 197,
   "metadata": {},
   "outputs": [
    {
     "data": {
      "text/plain": [
       "array(['-', '2.001', '3.001', 'acima de 10.000', '5.001', '4.001',\n",
       "       '1.001', '7.001', 'acima de 10.000 ', 'acima 10.000', '- ', '3001',\n",
       "       '10000', '4001', '2001', '7001', '1001', '5001', '70001'],\n",
       "      dtype=object)"
      ]
     },
     "execution_count": 197,
     "metadata": {},
     "output_type": "execute_result"
    }
   ],
   "source": [
    "df_novos_alunos['Valor Mínimo de Salário'] = df_novos_alunos['Valor Mínimo de Salário'].fillna('-')\n",
    "df_novos_alunos['Valor Mínimo de Salário'].unique()"
   ]
  },
  {
   "cell_type": "code",
   "execution_count": 198,
   "metadata": {},
   "outputs": [
    {
     "data": {
      "text/plain": [
       "array(['-', '2.001', '3.001', 'acima de 10.000', '5.001', '4.001',\n",
       "       '1.001', '7.001', 'acima de 10.000 ', 'acima 10.000', '3001',\n",
       "       '10000', '4001', '2001', '7001', '1001', '5001', '70001'],\n",
       "      dtype=object)"
      ]
     },
     "execution_count": 198,
     "metadata": {},
     "output_type": "execute_result"
    }
   ],
   "source": [
    "df_novos_alunos['Valor Mínimo de Salário'] = df_novos_alunos['Valor Mínimo de Salário'].str.replace('- ', '-')\n",
    "df_novos_alunos['Valor Mínimo de Salário'].unique()"
   ]
  },
  {
   "cell_type": "code",
   "execution_count": 199,
   "metadata": {},
   "outputs": [
    {
     "data": {
      "text/plain": [
       "array(['-', '2.001', '3.001', 'acimade10.000', '5.001', '4.001', '1.001',\n",
       "       '7.001', 'acima10.000', '3001', '10000', '4001', '2001', '7001',\n",
       "       '1001', '5001', '70001'], dtype=object)"
      ]
     },
     "execution_count": 199,
     "metadata": {},
     "output_type": "execute_result"
    }
   ],
   "source": [
    "df_novos_alunos['Valor Mínimo de Salário'] = df_novos_alunos['Valor Mínimo de Salário'].str.replace(' ', '')\n",
    "df_novos_alunos['Valor Mínimo de Salário'].unique()"
   ]
  },
  {
   "cell_type": "code",
   "execution_count": 200,
   "metadata": {},
   "outputs": [
    {
     "data": {
      "text/plain": [
       "array(['-', '2001', '3001', 'acimade10000', '5001', '4001', '1001',\n",
       "       '7001', 'acima10000', '10000', '70001'], dtype=object)"
      ]
     },
     "execution_count": 200,
     "metadata": {},
     "output_type": "execute_result"
    }
   ],
   "source": [
    "df_novos_alunos['Valor Mínimo de Salário'] = df_novos_alunos['Valor Mínimo de Salário'].str.replace('.', '')\n",
    "df_novos_alunos['Valor Mínimo de Salário'].unique()"
   ]
  },
  {
   "cell_type": "code",
   "execution_count": 201,
   "metadata": {},
   "outputs": [
    {
     "data": {
      "text/html": [
       "<div>\n",
       "<style scoped>\n",
       "    .dataframe tbody tr th:only-of-type {\n",
       "        vertical-align: middle;\n",
       "    }\n",
       "\n",
       "    .dataframe tbody tr th {\n",
       "        vertical-align: top;\n",
       "    }\n",
       "\n",
       "    .dataframe thead th {\n",
       "        text-align: right;\n",
       "    }\n",
       "</style>\n",
       "<table border=\"1\" class=\"dataframe\">\n",
       "  <thead>\n",
       "    <tr style=\"text-align: right;\">\n",
       "      <th></th>\n",
       "      <th>Possível aluno</th>\n",
       "      <th>Deve? (Sim ou Não)</th>\n",
       "      <th>Sim? Quanto?</th>\n",
       "      <th>Score</th>\n",
       "      <th>Chance de Pagamento (%)</th>\n",
       "      <th>Valor Mínimo de Salário</th>\n",
       "    </tr>\n",
       "  </thead>\n",
       "  <tbody>\n",
       "    <tr>\n",
       "      <th>190</th>\n",
       "      <td>xxx</td>\n",
       "      <td>não</td>\n",
       "      <td>-</td>\n",
       "      <td>348</td>\n",
       "      <td>49.69</td>\n",
       "      <td>acima10000</td>\n",
       "    </tr>\n",
       "  </tbody>\n",
       "</table>\n",
       "</div>"
      ],
      "text/plain": [
       "    Possível aluno Deve? (Sim ou Não) Sim? Quanto? Score  \\\n",
       "190            xxx                não            -   348   \n",
       "\n",
       "    Chance de Pagamento (%) Valor Mínimo de Salário  \n",
       "190                   49.69              acima10000  "
      ]
     },
     "execution_count": 201,
     "metadata": {},
     "output_type": "execute_result"
    }
   ],
   "source": [
    "df_novos_alunos[df_novos_alunos['Valor Mínimo de Salário'] == 'acima10000']"
   ]
  },
  {
   "cell_type": "code",
   "execution_count": 202,
   "metadata": {},
   "outputs": [
    {
     "data": {
      "text/plain": [
       "'acima10000'"
      ]
     },
     "execution_count": 202,
     "metadata": {},
     "output_type": "execute_result"
    }
   ],
   "source": [
    "df_novos_alunos.iloc[189, 5]"
   ]
  },
  {
   "cell_type": "code",
   "execution_count": 203,
   "metadata": {},
   "outputs": [],
   "source": [
    "df_novos_alunos.iloc[189, 5] = 'acimade10000'"
   ]
  },
  {
   "cell_type": "code",
   "execution_count": 204,
   "metadata": {},
   "outputs": [
    {
     "data": {
      "text/plain": [
       "array(['-', '2001', '3001', 'acimade10000', '5001', '4001', '1001',\n",
       "       '7001', '10000', '70001'], dtype=object)"
      ]
     },
     "execution_count": 204,
     "metadata": {},
     "output_type": "execute_result"
    }
   ],
   "source": [
    "df_novos_alunos['Valor Mínimo de Salário'].unique()"
   ]
  },
  {
   "cell_type": "markdown",
   "metadata": {},
   "source": [
    "# Vamos veriifcar  a tipagem dos dados"
   ]
  },
  {
   "cell_type": "code",
   "execution_count": 205,
   "metadata": {},
   "outputs": [
    {
     "data": {
      "text/html": [
       "<div>\n",
       "<style scoped>\n",
       "    .dataframe tbody tr th:only-of-type {\n",
       "        vertical-align: middle;\n",
       "    }\n",
       "\n",
       "    .dataframe tbody tr th {\n",
       "        vertical-align: top;\n",
       "    }\n",
       "\n",
       "    .dataframe thead th {\n",
       "        text-align: right;\n",
       "    }\n",
       "</style>\n",
       "<table border=\"1\" class=\"dataframe\">\n",
       "  <thead>\n",
       "    <tr style=\"text-align: right;\">\n",
       "      <th></th>\n",
       "      <th>Possível aluno</th>\n",
       "      <th>Deve? (Sim ou Não)</th>\n",
       "      <th>Sim? Quanto?</th>\n",
       "      <th>Score</th>\n",
       "      <th>Chance de Pagamento (%)</th>\n",
       "      <th>Valor Mínimo de Salário</th>\n",
       "    </tr>\n",
       "  </thead>\n",
       "  <tbody>\n",
       "    <tr>\n",
       "      <th>12</th>\n",
       "      <td>xxx</td>\n",
       "      <td>não</td>\n",
       "      <td>-</td>\n",
       "      <td>51.876,99</td>\n",
       "      <td>95,50</td>\n",
       "      <td>7.001</td>\n",
       "    </tr>\n",
       "    <tr>\n",
       "      <th>311</th>\n",
       "      <td>xxx</td>\n",
       "      <td>sim</td>\n",
       "      <td>689479</td>\n",
       "      <td>96</td>\n",
       "      <td>0.0086</td>\n",
       "      <td>1001</td>\n",
       "    </tr>\n",
       "  </tbody>\n",
       "</table>\n",
       "</div>"
      ],
      "text/plain": [
       "    Possível aluno Deve? (Sim ou Não) Sim? Quanto?      Score  \\\n",
       "12             xxx                não            -  51.876,99   \n",
       "311            xxx                sim       689479         96   \n",
       "\n",
       "    Chance de Pagamento (%) Valor Mínimo de Salário  \n",
       "12                    95,50                   7.001  \n",
       "311                  0.0086                    1001  "
      ]
     },
     "execution_count": 205,
     "metadata": {},
     "output_type": "execute_result"
    }
   ],
   "source": [
    "valores_estranhos"
   ]
  },
  {
   "cell_type": "code",
   "execution_count": 207,
   "metadata": {},
   "outputs": [
    {
     "data": {
      "text/plain": [
       "Possível aluno             object\n",
       "Deve? (Sim ou Não)         object\n",
       "Sim? Quanto?               object\n",
       "Score                      object\n",
       "Chance de Pagamento (%)    object\n",
       "Valor Mínimo de Salário    object\n",
       "dtype: object"
      ]
     },
     "execution_count": 207,
     "metadata": {},
     "output_type": "execute_result"
    }
   ],
   "source": [
    "df_novos_alunos.dtypes"
   ]
  },
  {
   "cell_type": "markdown",
   "metadata": {},
   "source": [
    "#### VAMOS PRIMEIRAMENTE ISOLAR OS DADOS QUE NÃO POSSUEM INFORMAÇÕES DE SE DEVE OU NÃO, OU NÃO POSSUI VALOR DEVEDOR"
   ]
  },
  {
   "cell_type": "code",
   "execution_count": 208,
   "metadata": {},
   "outputs": [
    {
     "data": {
      "text/html": [
       "<div>\n",
       "<style scoped>\n",
       "    .dataframe tbody tr th:only-of-type {\n",
       "        vertical-align: middle;\n",
       "    }\n",
       "\n",
       "    .dataframe tbody tr th {\n",
       "        vertical-align: top;\n",
       "    }\n",
       "\n",
       "    .dataframe thead th {\n",
       "        text-align: right;\n",
       "    }\n",
       "</style>\n",
       "<table border=\"1\" class=\"dataframe\">\n",
       "  <thead>\n",
       "    <tr style=\"text-align: right;\">\n",
       "      <th></th>\n",
       "      <th>Possível aluno</th>\n",
       "      <th>Deve? (Sim ou Não)</th>\n",
       "      <th>Sim? Quanto?</th>\n",
       "      <th>Score</th>\n",
       "      <th>Chance de Pagamento (%)</th>\n",
       "      <th>Valor Mínimo de Salário</th>\n",
       "    </tr>\n",
       "  </thead>\n",
       "  <tbody>\n",
       "    <tr>\n",
       "      <th>285</th>\n",
       "      <td>xxx</td>\n",
       "      <td>-</td>\n",
       "      <td>-</td>\n",
       "      <td>377</td>\n",
       "      <td>0.4969</td>\n",
       "      <td>3001</td>\n",
       "    </tr>\n",
       "    <tr>\n",
       "      <th>286</th>\n",
       "      <td>xxx</td>\n",
       "      <td>-</td>\n",
       "      <td>-</td>\n",
       "      <td>862</td>\n",
       "      <td>0.9305</td>\n",
       "      <td>10000</td>\n",
       "    </tr>\n",
       "    <tr>\n",
       "      <th>287</th>\n",
       "      <td>xxx</td>\n",
       "      <td>-</td>\n",
       "      <td>-</td>\n",
       "      <td>862</td>\n",
       "      <td>0.9305</td>\n",
       "      <td>10000</td>\n",
       "    </tr>\n",
       "    <tr>\n",
       "      <th>288</th>\n",
       "      <td>xxx</td>\n",
       "      <td>-</td>\n",
       "      <td>-</td>\n",
       "      <td>892</td>\n",
       "      <td>0.9305</td>\n",
       "      <td>4001</td>\n",
       "    </tr>\n",
       "    <tr>\n",
       "      <th>289</th>\n",
       "      <td>xxx</td>\n",
       "      <td>-</td>\n",
       "      <td>-</td>\n",
       "      <td>966</td>\n",
       "      <td>0.955</td>\n",
       "      <td>10000</td>\n",
       "    </tr>\n",
       "    <tr>\n",
       "      <th>...</th>\n",
       "      <td>...</td>\n",
       "      <td>...</td>\n",
       "      <td>...</td>\n",
       "      <td>...</td>\n",
       "      <td>...</td>\n",
       "      <td>...</td>\n",
       "    </tr>\n",
       "    <tr>\n",
       "      <th>394</th>\n",
       "      <td>xxx</td>\n",
       "      <td>-</td>\n",
       "      <td>-</td>\n",
       "      <td>876</td>\n",
       "      <td>93.05</td>\n",
       "      <td>10000</td>\n",
       "    </tr>\n",
       "    <tr>\n",
       "      <th>395</th>\n",
       "      <td>xxx</td>\n",
       "      <td>-</td>\n",
       "      <td>-</td>\n",
       "      <td>963</td>\n",
       "      <td>95.5</td>\n",
       "      <td>10000</td>\n",
       "    </tr>\n",
       "    <tr>\n",
       "      <th>396</th>\n",
       "      <td>xxx</td>\n",
       "      <td>-</td>\n",
       "      <td>-</td>\n",
       "      <td>596</td>\n",
       "      <td>77.51</td>\n",
       "      <td>3001</td>\n",
       "    </tr>\n",
       "    <tr>\n",
       "      <th>397</th>\n",
       "      <td>xxx</td>\n",
       "      <td>-</td>\n",
       "      <td>-</td>\n",
       "      <td>971</td>\n",
       "      <td>95.5</td>\n",
       "      <td>5001</td>\n",
       "    </tr>\n",
       "    <tr>\n",
       "      <th>404</th>\n",
       "      <td>xxx</td>\n",
       "      <td>-</td>\n",
       "      <td>-</td>\n",
       "      <td>841</td>\n",
       "      <td>93.05</td>\n",
       "      <td>-</td>\n",
       "    </tr>\n",
       "  </tbody>\n",
       "</table>\n",
       "<p>96 rows × 6 columns</p>\n",
       "</div>"
      ],
      "text/plain": [
       "    Possível aluno Deve? (Sim ou Não) Sim? Quanto? Score  \\\n",
       "285            xxx                  -            -   377   \n",
       "286            xxx                  -            -   862   \n",
       "287            xxx                  -            -   862   \n",
       "288            xxx                  -            -   892   \n",
       "289            xxx                  -            -   966   \n",
       "..             ...                ...          ...   ...   \n",
       "394            xxx                  -            -   876   \n",
       "395            xxx                  -            -   963   \n",
       "396            xxx                  -            -   596   \n",
       "397            xxx                  -            -   971   \n",
       "404            xxx                  -            -   841   \n",
       "\n",
       "    Chance de Pagamento (%) Valor Mínimo de Salário  \n",
       "285                  0.4969                    3001  \n",
       "286                  0.9305                   10000  \n",
       "287                  0.9305                   10000  \n",
       "288                  0.9305                    4001  \n",
       "289                   0.955                   10000  \n",
       "..                      ...                     ...  \n",
       "394                   93.05                   10000  \n",
       "395                    95.5                   10000  \n",
       "396                   77.51                    3001  \n",
       "397                    95.5                    5001  \n",
       "404                   93.05                       -  \n",
       "\n",
       "[96 rows x 6 columns]"
      ]
     },
     "execution_count": 208,
     "metadata": {},
     "output_type": "execute_result"
    }
   ],
   "source": [
    "pagamento_desconhecido = df_novos_alunos[df_novos_alunos['Deve? (Sim ou Não)'] == '-']\n",
    "pagamento_desconhecido"
   ]
  },
  {
   "cell_type": "code",
   "execution_count": 209,
   "metadata": {},
   "outputs": [],
   "source": [
    "df_novos_alunos = df_novos_alunos[df_novos_alunos['Deve? (Sim ou Não)'] != '-']"
   ]
  },
  {
   "cell_type": "code",
   "execution_count": 210,
   "metadata": {},
   "outputs": [
    {
     "data": {
      "text/plain": [
       "array(['não', 'sim'], dtype=object)"
      ]
     },
     "execution_count": 210,
     "metadata": {},
     "output_type": "execute_result"
    }
   ],
   "source": [
    "df_novos_alunos['Deve? (Sim ou Não)'].unique()"
   ]
  },
  {
   "cell_type": "code",
   "execution_count": 211,
   "metadata": {},
   "outputs": [],
   "source": [
    "pagamento_desconhecido = pd.concat([pagamento_desconhecido, df_novos_alunos[(df_novos_alunos['Deve? (Sim ou Não)'] == 'sim') & (df_novos_alunos['Sim? Quanto?'] == '-')]])"
   ]
  },
  {
   "cell_type": "code",
   "execution_count": 212,
   "metadata": {},
   "outputs": [
    {
     "data": {
      "text/html": [
       "<div>\n",
       "<style scoped>\n",
       "    .dataframe tbody tr th:only-of-type {\n",
       "        vertical-align: middle;\n",
       "    }\n",
       "\n",
       "    .dataframe tbody tr th {\n",
       "        vertical-align: top;\n",
       "    }\n",
       "\n",
       "    .dataframe thead th {\n",
       "        text-align: right;\n",
       "    }\n",
       "</style>\n",
       "<table border=\"1\" class=\"dataframe\">\n",
       "  <thead>\n",
       "    <tr style=\"text-align: right;\">\n",
       "      <th></th>\n",
       "      <th>Possível aluno</th>\n",
       "      <th>Deve? (Sim ou Não)</th>\n",
       "      <th>Sim? Quanto?</th>\n",
       "      <th>Score</th>\n",
       "      <th>Chance de Pagamento (%)</th>\n",
       "      <th>Valor Mínimo de Salário</th>\n",
       "    </tr>\n",
       "  </thead>\n",
       "  <tbody>\n",
       "    <tr>\n",
       "      <th>17</th>\n",
       "      <td>xxx</td>\n",
       "      <td>sim</td>\n",
       "      <td>-</td>\n",
       "      <td>240</td>\n",
       "      <td>17.87</td>\n",
       "      <td>acimade10000</td>\n",
       "    </tr>\n",
       "  </tbody>\n",
       "</table>\n",
       "</div>"
      ],
      "text/plain": [
       "   Possível aluno Deve? (Sim ou Não) Sim? Quanto? Score  \\\n",
       "17            xxx                sim            -   240   \n",
       "\n",
       "   Chance de Pagamento (%) Valor Mínimo de Salário  \n",
       "17                   17.87            acimade10000  "
      ]
     },
     "execution_count": 212,
     "metadata": {},
     "output_type": "execute_result"
    }
   ],
   "source": [
    "df_novos_alunos[(df_novos_alunos['Deve? (Sim ou Não)'] == 'sim') & (df_novos_alunos['Sim? Quanto?'] == '-')]"
   ]
  },
  {
   "cell_type": "code",
   "execution_count": 213,
   "metadata": {},
   "outputs": [],
   "source": [
    "df_novos_alunos = df_novos_alunos.drop([17])"
   ]
  },
  {
   "cell_type": "markdown",
   "metadata": {},
   "source": [
    "#### VAMOS AGORA TRANSFORMAR ESSES NÚMEROS PARA VALORES INTEIROS"
   ]
  },
  {
   "cell_type": "code",
   "execution_count": 214,
   "metadata": {},
   "outputs": [
    {
     "data": {
      "text/html": [
       "<div>\n",
       "<style scoped>\n",
       "    .dataframe tbody tr th:only-of-type {\n",
       "        vertical-align: middle;\n",
       "    }\n",
       "\n",
       "    .dataframe tbody tr th {\n",
       "        vertical-align: top;\n",
       "    }\n",
       "\n",
       "    .dataframe thead th {\n",
       "        text-align: right;\n",
       "    }\n",
       "</style>\n",
       "<table border=\"1\" class=\"dataframe\">\n",
       "  <thead>\n",
       "    <tr style=\"text-align: right;\">\n",
       "      <th></th>\n",
       "      <th>Possível aluno</th>\n",
       "      <th>Deve? (Sim ou Não)</th>\n",
       "      <th>Sim? Quanto?</th>\n",
       "      <th>Score</th>\n",
       "      <th>Chance de Pagamento (%)</th>\n",
       "      <th>Valor Mínimo de Salário</th>\n",
       "    </tr>\n",
       "  </thead>\n",
       "  <tbody>\n",
       "    <tr>\n",
       "      <th>0</th>\n",
       "      <td>xxx</td>\n",
       "      <td>não</td>\n",
       "      <td>-</td>\n",
       "      <td>871</td>\n",
       "      <td>93.05</td>\n",
       "      <td>-</td>\n",
       "    </tr>\n",
       "    <tr>\n",
       "      <th>1</th>\n",
       "      <td>xxx</td>\n",
       "      <td>não</td>\n",
       "      <td>-</td>\n",
       "      <td>498</td>\n",
       "      <td>66.56</td>\n",
       "      <td>2001</td>\n",
       "    </tr>\n",
       "    <tr>\n",
       "      <th>2</th>\n",
       "      <td>xxx</td>\n",
       "      <td>não</td>\n",
       "      <td>-</td>\n",
       "      <td>974</td>\n",
       "      <td>95.50</td>\n",
       "      <td>3001</td>\n",
       "    </tr>\n",
       "    <tr>\n",
       "      <th>3</th>\n",
       "      <td>xxx</td>\n",
       "      <td>não</td>\n",
       "      <td>-</td>\n",
       "      <td>790</td>\n",
       "      <td>88.20</td>\n",
       "      <td>acimade10000</td>\n",
       "    </tr>\n",
       "    <tr>\n",
       "      <th>4</th>\n",
       "      <td>xxx</td>\n",
       "      <td>não</td>\n",
       "      <td>-</td>\n",
       "      <td>816</td>\n",
       "      <td>93.05</td>\n",
       "      <td>-</td>\n",
       "    </tr>\n",
       "    <tr>\n",
       "      <th>...</th>\n",
       "      <td>...</td>\n",
       "      <td>...</td>\n",
       "      <td>...</td>\n",
       "      <td>...</td>\n",
       "      <td>...</td>\n",
       "      <td>...</td>\n",
       "    </tr>\n",
       "    <tr>\n",
       "      <th>488</th>\n",
       "      <td>xxx</td>\n",
       "      <td>não</td>\n",
       "      <td>-</td>\n",
       "      <td>452</td>\n",
       "      <td>66.56</td>\n",
       "      <td>-</td>\n",
       "    </tr>\n",
       "    <tr>\n",
       "      <th>490</th>\n",
       "      <td>xxx</td>\n",
       "      <td>não</td>\n",
       "      <td>-</td>\n",
       "      <td>411</td>\n",
       "      <td>66.56</td>\n",
       "      <td>-</td>\n",
       "    </tr>\n",
       "    <tr>\n",
       "      <th>491</th>\n",
       "      <td>xxx</td>\n",
       "      <td>não</td>\n",
       "      <td>-</td>\n",
       "      <td>360</td>\n",
       "      <td>49.69</td>\n",
       "      <td>-</td>\n",
       "    </tr>\n",
       "    <tr>\n",
       "      <th>492</th>\n",
       "      <td>xxx</td>\n",
       "      <td>não</td>\n",
       "      <td>-</td>\n",
       "      <td>662</td>\n",
       "      <td>83.12</td>\n",
       "      <td>-</td>\n",
       "    </tr>\n",
       "    <tr>\n",
       "      <th>493</th>\n",
       "      <td>xxx</td>\n",
       "      <td>não</td>\n",
       "      <td>-</td>\n",
       "      <td>979</td>\n",
       "      <td>95.50</td>\n",
       "      <td>-</td>\n",
       "    </tr>\n",
       "  </tbody>\n",
       "</table>\n",
       "<p>354 rows × 6 columns</p>\n",
       "</div>"
      ],
      "text/plain": [
       "    Possível aluno Deve? (Sim ou Não) Sim? Quanto? Score  \\\n",
       "0              xxx                não            -   871   \n",
       "1              xxx                não            -   498   \n",
       "2              xxx                não            -   974   \n",
       "3              xxx                não            -   790   \n",
       "4              xxx                não            -   816   \n",
       "..             ...                ...          ...   ...   \n",
       "488            xxx                não            -   452   \n",
       "490            xxx                não            -   411   \n",
       "491            xxx                não            -   360   \n",
       "492            xxx                não            -   662   \n",
       "493            xxx                não            -   979   \n",
       "\n",
       "    Chance de Pagamento (%) Valor Mínimo de Salário  \n",
       "0                     93.05                       -  \n",
       "1                     66.56                    2001  \n",
       "2                     95.50                    3001  \n",
       "3                     88.20            acimade10000  \n",
       "4                     93.05                       -  \n",
       "..                      ...                     ...  \n",
       "488                   66.56                       -  \n",
       "490                   66.56                       -  \n",
       "491                   49.69                       -  \n",
       "492                   83.12                       -  \n",
       "493                   95.50                       -  \n",
       "\n",
       "[354 rows x 6 columns]"
      ]
     },
     "execution_count": 214,
     "metadata": {},
     "output_type": "execute_result"
    }
   ],
   "source": [
    "# Primeiro precisamos transformar esses valores em '-' como valor igual a 0\n",
    "df_novos_alunos[df_novos_alunos['Sim? Quanto?'] == '-']"
   ]
  },
  {
   "cell_type": "code",
   "execution_count": 215,
   "metadata": {},
   "outputs": [],
   "source": [
    "df_novos_alunos['Sim? Quanto?'] = df_novos_alunos['Sim? Quanto?'].str.replace('-', '0')"
   ]
  },
  {
   "cell_type": "code",
   "execution_count": 216,
   "metadata": {},
   "outputs": [],
   "source": [
    "df_novos_alunos['Sim? Quanto?'] = df_novos_alunos['Sim? Quanto?'].astype('float64')"
   ]
  },
  {
   "cell_type": "markdown",
   "metadata": {},
   "source": [
    "#### VAMOS AGORA TRANSFORMAR O SCORE PARA VALORES INTEIROS"
   ]
  },
  {
   "cell_type": "code",
   "execution_count": 217,
   "metadata": {},
   "outputs": [],
   "source": [
    "df_novos_alunos['Score'] = df_novos_alunos['Score'].astype('float64')"
   ]
  },
  {
   "cell_type": "markdown",
   "metadata": {},
   "source": [
    "#### VAMOS AGORA TRANSFORMAR O CHANCE DE PAGAMENTO PARA VALORES INTEIROS"
   ]
  },
  {
   "cell_type": "code",
   "execution_count": 218,
   "metadata": {},
   "outputs": [],
   "source": [
    "df_novos_alunos['Chance de Pagamento (%)'] = df_novos_alunos['Chance de Pagamento (%)'].astype('float64')"
   ]
  },
  {
   "cell_type": "markdown",
   "metadata": {},
   "source": [
    "# FILTRO DOS ALUNOS"
   ]
  },
  {
   "cell_type": "code",
   "execution_count": 219,
   "metadata": {},
   "outputs": [
    {
     "data": {
      "text/html": [
       "<div>\n",
       "<style scoped>\n",
       "    .dataframe tbody tr th:only-of-type {\n",
       "        vertical-align: middle;\n",
       "    }\n",
       "\n",
       "    .dataframe tbody tr th {\n",
       "        vertical-align: top;\n",
       "    }\n",
       "\n",
       "    .dataframe thead th {\n",
       "        text-align: right;\n",
       "    }\n",
       "</style>\n",
       "<table border=\"1\" class=\"dataframe\">\n",
       "  <thead>\n",
       "    <tr style=\"text-align: right;\">\n",
       "      <th></th>\n",
       "      <th>Possível aluno</th>\n",
       "      <th>Deve? (Sim ou Não)</th>\n",
       "      <th>Sim? Quanto?</th>\n",
       "      <th>Score</th>\n",
       "      <th>Chance de Pagamento (%)</th>\n",
       "      <th>Valor Mínimo de Salário</th>\n",
       "    </tr>\n",
       "  </thead>\n",
       "  <tbody>\n",
       "    <tr>\n",
       "      <th>6</th>\n",
       "      <td>xxx</td>\n",
       "      <td>sim</td>\n",
       "      <td>40878.87</td>\n",
       "      <td>169.0</td>\n",
       "      <td>2.9900</td>\n",
       "      <td>4001</td>\n",
       "    </tr>\n",
       "    <tr>\n",
       "      <th>16</th>\n",
       "      <td>xxx</td>\n",
       "      <td>sim</td>\n",
       "      <td>51876.99</td>\n",
       "      <td>240.0</td>\n",
       "      <td>17.8700</td>\n",
       "      <td>acimade10000</td>\n",
       "    </tr>\n",
       "    <tr>\n",
       "      <th>18</th>\n",
       "      <td>xxx</td>\n",
       "      <td>sim</td>\n",
       "      <td>51876.99</td>\n",
       "      <td>240.0</td>\n",
       "      <td>17.8700</td>\n",
       "      <td>acimade10000</td>\n",
       "    </tr>\n",
       "    <tr>\n",
       "      <th>31</th>\n",
       "      <td>xxx</td>\n",
       "      <td>sim</td>\n",
       "      <td>2081.60</td>\n",
       "      <td>32.0</td>\n",
       "      <td>0.8600</td>\n",
       "      <td>2001</td>\n",
       "    </tr>\n",
       "    <tr>\n",
       "      <th>37</th>\n",
       "      <td>xxx</td>\n",
       "      <td>sim</td>\n",
       "      <td>885.75</td>\n",
       "      <td>58.0</td>\n",
       "      <td>0.8600</td>\n",
       "      <td>1001</td>\n",
       "    </tr>\n",
       "    <tr>\n",
       "      <th>62</th>\n",
       "      <td>xxx</td>\n",
       "      <td>sim</td>\n",
       "      <td>2145.14</td>\n",
       "      <td>196.0</td>\n",
       "      <td>2.9900</td>\n",
       "      <td>3001</td>\n",
       "    </tr>\n",
       "    <tr>\n",
       "      <th>63</th>\n",
       "      <td>xxx</td>\n",
       "      <td>sim</td>\n",
       "      <td>2145.14</td>\n",
       "      <td>196.0</td>\n",
       "      <td>2.9900</td>\n",
       "      <td>3001</td>\n",
       "    </tr>\n",
       "    <tr>\n",
       "      <th>69</th>\n",
       "      <td>xxx</td>\n",
       "      <td>sim</td>\n",
       "      <td>3057.49</td>\n",
       "      <td>252.0</td>\n",
       "      <td>17.8700</td>\n",
       "      <td>3001</td>\n",
       "    </tr>\n",
       "    <tr>\n",
       "      <th>71</th>\n",
       "      <td>xxx</td>\n",
       "      <td>não</td>\n",
       "      <td>0.00</td>\n",
       "      <td>251.0</td>\n",
       "      <td>17.8700</td>\n",
       "      <td>-</td>\n",
       "    </tr>\n",
       "    <tr>\n",
       "      <th>74</th>\n",
       "      <td>xxx</td>\n",
       "      <td>sim</td>\n",
       "      <td>6059.83</td>\n",
       "      <td>216.0</td>\n",
       "      <td>17.8700</td>\n",
       "      <td>acimade10000</td>\n",
       "    </tr>\n",
       "    <tr>\n",
       "      <th>82</th>\n",
       "      <td>xxx</td>\n",
       "      <td>sim</td>\n",
       "      <td>22407.42</td>\n",
       "      <td>84.0</td>\n",
       "      <td>0.8600</td>\n",
       "      <td>3001</td>\n",
       "    </tr>\n",
       "    <tr>\n",
       "      <th>98</th>\n",
       "      <td>xxx</td>\n",
       "      <td>sim</td>\n",
       "      <td>5298.24</td>\n",
       "      <td>16.0</td>\n",
       "      <td>0.8600</td>\n",
       "      <td>5001</td>\n",
       "    </tr>\n",
       "    <tr>\n",
       "      <th>120</th>\n",
       "      <td>xxx</td>\n",
       "      <td>sim</td>\n",
       "      <td>6059.83</td>\n",
       "      <td>216.0</td>\n",
       "      <td>17.8700</td>\n",
       "      <td>acimade10000</td>\n",
       "    </tr>\n",
       "    <tr>\n",
       "      <th>121</th>\n",
       "      <td>xxx</td>\n",
       "      <td>sim</td>\n",
       "      <td>44929.79</td>\n",
       "      <td>58.0</td>\n",
       "      <td>0.8600</td>\n",
       "      <td>acimade10000</td>\n",
       "    </tr>\n",
       "    <tr>\n",
       "      <th>156</th>\n",
       "      <td>xxx</td>\n",
       "      <td>sim</td>\n",
       "      <td>200.78</td>\n",
       "      <td>62.0</td>\n",
       "      <td>0.8600</td>\n",
       "      <td>1001</td>\n",
       "    </tr>\n",
       "    <tr>\n",
       "      <th>167</th>\n",
       "      <td>xxx</td>\n",
       "      <td>sim</td>\n",
       "      <td>310.72</td>\n",
       "      <td>256.0</td>\n",
       "      <td>17.8700</td>\n",
       "      <td>2001</td>\n",
       "    </tr>\n",
       "    <tr>\n",
       "      <th>175</th>\n",
       "      <td>xxx</td>\n",
       "      <td>sim</td>\n",
       "      <td>200.78</td>\n",
       "      <td>62.0</td>\n",
       "      <td>0.8600</td>\n",
       "      <td>1001</td>\n",
       "    </tr>\n",
       "    <tr>\n",
       "      <th>200</th>\n",
       "      <td>xxx</td>\n",
       "      <td>sim</td>\n",
       "      <td>2839.16</td>\n",
       "      <td>253.0</td>\n",
       "      <td>17.8700</td>\n",
       "      <td>2001</td>\n",
       "    </tr>\n",
       "    <tr>\n",
       "      <th>203</th>\n",
       "      <td>xxx</td>\n",
       "      <td>sim</td>\n",
       "      <td>575.95</td>\n",
       "      <td>196.0</td>\n",
       "      <td>2.9900</td>\n",
       "      <td>5001</td>\n",
       "    </tr>\n",
       "    <tr>\n",
       "      <th>238</th>\n",
       "      <td>xxx</td>\n",
       "      <td>sim</td>\n",
       "      <td>5134.22</td>\n",
       "      <td>181.0</td>\n",
       "      <td>2.9900</td>\n",
       "      <td>-</td>\n",
       "    </tr>\n",
       "    <tr>\n",
       "      <th>244</th>\n",
       "      <td>xxx</td>\n",
       "      <td>sim</td>\n",
       "      <td>2917.06</td>\n",
       "      <td>234.0</td>\n",
       "      <td>17.8700</td>\n",
       "      <td>1001</td>\n",
       "    </tr>\n",
       "    <tr>\n",
       "      <th>246</th>\n",
       "      <td>xxx</td>\n",
       "      <td>sim</td>\n",
       "      <td>8236.69</td>\n",
       "      <td>54.0</td>\n",
       "      <td>0.8600</td>\n",
       "      <td>3001</td>\n",
       "    </tr>\n",
       "    <tr>\n",
       "      <th>269</th>\n",
       "      <td>xxx</td>\n",
       "      <td>sim</td>\n",
       "      <td>1029.67</td>\n",
       "      <td>228.0</td>\n",
       "      <td>17.8700</td>\n",
       "      <td>2001</td>\n",
       "    </tr>\n",
       "    <tr>\n",
       "      <th>273</th>\n",
       "      <td>xxx</td>\n",
       "      <td>sim</td>\n",
       "      <td>59160.21</td>\n",
       "      <td>150.0</td>\n",
       "      <td>2.9900</td>\n",
       "      <td>acimade10000</td>\n",
       "    </tr>\n",
       "    <tr>\n",
       "      <th>278</th>\n",
       "      <td>xxx</td>\n",
       "      <td>sim</td>\n",
       "      <td>10845.69</td>\n",
       "      <td>181.0</td>\n",
       "      <td>2.9900</td>\n",
       "      <td>3001</td>\n",
       "    </tr>\n",
       "    <tr>\n",
       "      <th>295</th>\n",
       "      <td>xxx</td>\n",
       "      <td>sim</td>\n",
       "      <td>184481.00</td>\n",
       "      <td>251.0</td>\n",
       "      <td>0.1787</td>\n",
       "      <td>7001</td>\n",
       "    </tr>\n",
       "    <tr>\n",
       "      <th>297</th>\n",
       "      <td>xxx</td>\n",
       "      <td>sim</td>\n",
       "      <td>93697.00</td>\n",
       "      <td>140.0</td>\n",
       "      <td>0.0299</td>\n",
       "      <td>7001</td>\n",
       "    </tr>\n",
       "    <tr>\n",
       "      <th>305</th>\n",
       "      <td>xxx</td>\n",
       "      <td>sim</td>\n",
       "      <td>2688986.00</td>\n",
       "      <td>105.0</td>\n",
       "      <td>0.0299</td>\n",
       "      <td>acimade10000</td>\n",
       "    </tr>\n",
       "    <tr>\n",
       "      <th>307</th>\n",
       "      <td>xxx</td>\n",
       "      <td>sim</td>\n",
       "      <td>285.10</td>\n",
       "      <td>228.0</td>\n",
       "      <td>17.8700</td>\n",
       "      <td>2001</td>\n",
       "    </tr>\n",
       "    <tr>\n",
       "      <th>311</th>\n",
       "      <td>xxx</td>\n",
       "      <td>sim</td>\n",
       "      <td>689479.00</td>\n",
       "      <td>96.0</td>\n",
       "      <td>0.0086</td>\n",
       "      <td>1001</td>\n",
       "    </tr>\n",
       "    <tr>\n",
       "      <th>320</th>\n",
       "      <td>xxx</td>\n",
       "      <td>sim</td>\n",
       "      <td>501866.00</td>\n",
       "      <td>290.0</td>\n",
       "      <td>0.1787</td>\n",
       "      <td>1001</td>\n",
       "    </tr>\n",
       "    <tr>\n",
       "      <th>321</th>\n",
       "      <td>xxx</td>\n",
       "      <td>sim</td>\n",
       "      <td>1215.00</td>\n",
       "      <td>366.0</td>\n",
       "      <td>0.4969</td>\n",
       "      <td>3001</td>\n",
       "    </tr>\n",
       "    <tr>\n",
       "      <th>356</th>\n",
       "      <td>xxx</td>\n",
       "      <td>sim</td>\n",
       "      <td>554591.00</td>\n",
       "      <td>81.0</td>\n",
       "      <td>0.8600</td>\n",
       "      <td>1001</td>\n",
       "    </tr>\n",
       "    <tr>\n",
       "      <th>376</th>\n",
       "      <td>xxx</td>\n",
       "      <td>sim</td>\n",
       "      <td>498526.00</td>\n",
       "      <td>32.0</td>\n",
       "      <td>0.8600</td>\n",
       "      <td>2001</td>\n",
       "    </tr>\n",
       "    <tr>\n",
       "      <th>384</th>\n",
       "      <td>xxx</td>\n",
       "      <td>sim</td>\n",
       "      <td>21666.00</td>\n",
       "      <td>225.0</td>\n",
       "      <td>17.8700</td>\n",
       "      <td>2001</td>\n",
       "    </tr>\n",
       "    <tr>\n",
       "      <th>399</th>\n",
       "      <td>xxx</td>\n",
       "      <td>não</td>\n",
       "      <td>0.00</td>\n",
       "      <td>166.0</td>\n",
       "      <td>2.9900</td>\n",
       "      <td>-</td>\n",
       "    </tr>\n",
       "    <tr>\n",
       "      <th>401</th>\n",
       "      <td>xxx</td>\n",
       "      <td>sim</td>\n",
       "      <td>3342.17</td>\n",
       "      <td>96.0</td>\n",
       "      <td>0.8600</td>\n",
       "      <td>-</td>\n",
       "    </tr>\n",
       "    <tr>\n",
       "      <th>423</th>\n",
       "      <td>xxx</td>\n",
       "      <td>sim</td>\n",
       "      <td>6414.28</td>\n",
       "      <td>81.0</td>\n",
       "      <td>0.8600</td>\n",
       "      <td>-</td>\n",
       "    </tr>\n",
       "    <tr>\n",
       "      <th>453</th>\n",
       "      <td>xxx</td>\n",
       "      <td>não</td>\n",
       "      <td>0.00</td>\n",
       "      <td>260.0</td>\n",
       "      <td>17.8700</td>\n",
       "      <td>-</td>\n",
       "    </tr>\n",
       "    <tr>\n",
       "      <th>458</th>\n",
       "      <td>xxx</td>\n",
       "      <td>sim</td>\n",
       "      <td>5803.97</td>\n",
       "      <td>253.0</td>\n",
       "      <td>17.8700</td>\n",
       "      <td>-</td>\n",
       "    </tr>\n",
       "    <tr>\n",
       "      <th>465</th>\n",
       "      <td>xxx</td>\n",
       "      <td>sim</td>\n",
       "      <td>158.08</td>\n",
       "      <td>69.0</td>\n",
       "      <td>0.8600</td>\n",
       "      <td>-</td>\n",
       "    </tr>\n",
       "    <tr>\n",
       "      <th>489</th>\n",
       "      <td>xxx</td>\n",
       "      <td>sim</td>\n",
       "      <td>927.80</td>\n",
       "      <td>120.0</td>\n",
       "      <td>2.9900</td>\n",
       "      <td>-</td>\n",
       "    </tr>\n",
       "  </tbody>\n",
       "</table>\n",
       "</div>"
      ],
      "text/plain": [
       "    Possível aluno Deve? (Sim ou Não)  Sim? Quanto?  Score  \\\n",
       "6              xxx                sim      40878.87  169.0   \n",
       "16             xxx                sim      51876.99  240.0   \n",
       "18             xxx                sim      51876.99  240.0   \n",
       "31             xxx                sim       2081.60   32.0   \n",
       "37             xxx                sim        885.75   58.0   \n",
       "62             xxx                sim       2145.14  196.0   \n",
       "63             xxx                sim       2145.14  196.0   \n",
       "69             xxx                sim       3057.49  252.0   \n",
       "71             xxx                não          0.00  251.0   \n",
       "74             xxx                sim       6059.83  216.0   \n",
       "82             xxx                sim      22407.42   84.0   \n",
       "98             xxx                sim       5298.24   16.0   \n",
       "120            xxx                sim       6059.83  216.0   \n",
       "121            xxx                sim      44929.79   58.0   \n",
       "156            xxx                sim        200.78   62.0   \n",
       "167            xxx                sim        310.72  256.0   \n",
       "175            xxx                sim        200.78   62.0   \n",
       "200            xxx                sim       2839.16  253.0   \n",
       "203            xxx                sim        575.95  196.0   \n",
       "238            xxx                sim       5134.22  181.0   \n",
       "244            xxx                sim       2917.06  234.0   \n",
       "246            xxx                sim       8236.69   54.0   \n",
       "269            xxx                sim       1029.67  228.0   \n",
       "273            xxx                sim      59160.21  150.0   \n",
       "278            xxx                sim      10845.69  181.0   \n",
       "295            xxx                sim     184481.00  251.0   \n",
       "297            xxx                sim      93697.00  140.0   \n",
       "305            xxx                sim    2688986.00  105.0   \n",
       "307            xxx                sim        285.10  228.0   \n",
       "311            xxx                sim     689479.00   96.0   \n",
       "320            xxx                sim     501866.00  290.0   \n",
       "321            xxx                sim       1215.00  366.0   \n",
       "356            xxx                sim     554591.00   81.0   \n",
       "376            xxx                sim     498526.00   32.0   \n",
       "384            xxx                sim      21666.00  225.0   \n",
       "399            xxx                não          0.00  166.0   \n",
       "401            xxx                sim       3342.17   96.0   \n",
       "423            xxx                sim       6414.28   81.0   \n",
       "453            xxx                não          0.00  260.0   \n",
       "458            xxx                sim       5803.97  253.0   \n",
       "465            xxx                sim        158.08   69.0   \n",
       "489            xxx                sim        927.80  120.0   \n",
       "\n",
       "     Chance de Pagamento (%) Valor Mínimo de Salário  \n",
       "6                     2.9900                    4001  \n",
       "16                   17.8700            acimade10000  \n",
       "18                   17.8700            acimade10000  \n",
       "31                    0.8600                    2001  \n",
       "37                    0.8600                    1001  \n",
       "62                    2.9900                    3001  \n",
       "63                    2.9900                    3001  \n",
       "69                   17.8700                    3001  \n",
       "71                   17.8700                       -  \n",
       "74                   17.8700            acimade10000  \n",
       "82                    0.8600                    3001  \n",
       "98                    0.8600                    5001  \n",
       "120                  17.8700            acimade10000  \n",
       "121                   0.8600            acimade10000  \n",
       "156                   0.8600                    1001  \n",
       "167                  17.8700                    2001  \n",
       "175                   0.8600                    1001  \n",
       "200                  17.8700                    2001  \n",
       "203                   2.9900                    5001  \n",
       "238                   2.9900                       -  \n",
       "244                  17.8700                    1001  \n",
       "246                   0.8600                    3001  \n",
       "269                  17.8700                    2001  \n",
       "273                   2.9900            acimade10000  \n",
       "278                   2.9900                    3001  \n",
       "295                   0.1787                    7001  \n",
       "297                   0.0299                    7001  \n",
       "305                   0.0299            acimade10000  \n",
       "307                  17.8700                    2001  \n",
       "311                   0.0086                    1001  \n",
       "320                   0.1787                    1001  \n",
       "321                   0.4969                    3001  \n",
       "356                   0.8600                    1001  \n",
       "376                   0.8600                    2001  \n",
       "384                  17.8700                    2001  \n",
       "399                   2.9900                       -  \n",
       "401                   0.8600                       -  \n",
       "423                   0.8600                       -  \n",
       "453                  17.8700                       -  \n",
       "458                  17.8700                       -  \n",
       "465                   0.8600                       -  \n",
       "489                   2.9900                       -  "
      ]
     },
     "execution_count": 219,
     "metadata": {},
     "output_type": "execute_result"
    }
   ],
   "source": [
    "negados = df_novos_alunos[(df_novos_alunos['Score'] <= 246.86) | (df_novos_alunos['Chance de Pagamento (%)'] <= 25.14)]\n",
    "negados"
   ]
  },
  {
   "cell_type": "code",
   "execution_count": 221,
   "metadata": {},
   "outputs": [
    {
     "data": {
      "text/html": [
       "<div>\n",
       "<style scoped>\n",
       "    .dataframe tbody tr th:only-of-type {\n",
       "        vertical-align: middle;\n",
       "    }\n",
       "\n",
       "    .dataframe tbody tr th {\n",
       "        vertical-align: top;\n",
       "    }\n",
       "\n",
       "    .dataframe thead th {\n",
       "        text-align: right;\n",
       "    }\n",
       "</style>\n",
       "<table border=\"1\" class=\"dataframe\">\n",
       "  <thead>\n",
       "    <tr style=\"text-align: right;\">\n",
       "      <th></th>\n",
       "      <th>Possível aluno</th>\n",
       "      <th>Deve? (Sim ou Não)</th>\n",
       "      <th>Sim? Quanto?</th>\n",
       "      <th>Score</th>\n",
       "      <th>Chance de Pagamento (%)</th>\n",
       "      <th>Valor Mínimo de Salário</th>\n",
       "    </tr>\n",
       "  </thead>\n",
       "  <tbody>\n",
       "    <tr>\n",
       "      <th>0</th>\n",
       "      <td>xxx</td>\n",
       "      <td>não</td>\n",
       "      <td>0.0</td>\n",
       "      <td>871.0</td>\n",
       "      <td>93.05</td>\n",
       "      <td>-</td>\n",
       "    </tr>\n",
       "    <tr>\n",
       "      <th>1</th>\n",
       "      <td>xxx</td>\n",
       "      <td>não</td>\n",
       "      <td>0.0</td>\n",
       "      <td>498.0</td>\n",
       "      <td>66.56</td>\n",
       "      <td>2001</td>\n",
       "    </tr>\n",
       "    <tr>\n",
       "      <th>2</th>\n",
       "      <td>xxx</td>\n",
       "      <td>não</td>\n",
       "      <td>0.0</td>\n",
       "      <td>974.0</td>\n",
       "      <td>95.50</td>\n",
       "      <td>3001</td>\n",
       "    </tr>\n",
       "    <tr>\n",
       "      <th>3</th>\n",
       "      <td>xxx</td>\n",
       "      <td>não</td>\n",
       "      <td>0.0</td>\n",
       "      <td>790.0</td>\n",
       "      <td>88.20</td>\n",
       "      <td>acimade10000</td>\n",
       "    </tr>\n",
       "    <tr>\n",
       "      <th>4</th>\n",
       "      <td>xxx</td>\n",
       "      <td>não</td>\n",
       "      <td>0.0</td>\n",
       "      <td>816.0</td>\n",
       "      <td>93.05</td>\n",
       "      <td>-</td>\n",
       "    </tr>\n",
       "    <tr>\n",
       "      <th>...</th>\n",
       "      <td>...</td>\n",
       "      <td>...</td>\n",
       "      <td>...</td>\n",
       "      <td>...</td>\n",
       "      <td>...</td>\n",
       "      <td>...</td>\n",
       "    </tr>\n",
       "    <tr>\n",
       "      <th>488</th>\n",
       "      <td>xxx</td>\n",
       "      <td>não</td>\n",
       "      <td>0.0</td>\n",
       "      <td>452.0</td>\n",
       "      <td>66.56</td>\n",
       "      <td>-</td>\n",
       "    </tr>\n",
       "    <tr>\n",
       "      <th>490</th>\n",
       "      <td>xxx</td>\n",
       "      <td>não</td>\n",
       "      <td>0.0</td>\n",
       "      <td>411.0</td>\n",
       "      <td>66.56</td>\n",
       "      <td>-</td>\n",
       "    </tr>\n",
       "    <tr>\n",
       "      <th>491</th>\n",
       "      <td>xxx</td>\n",
       "      <td>não</td>\n",
       "      <td>0.0</td>\n",
       "      <td>360.0</td>\n",
       "      <td>49.69</td>\n",
       "      <td>-</td>\n",
       "    </tr>\n",
       "    <tr>\n",
       "      <th>492</th>\n",
       "      <td>xxx</td>\n",
       "      <td>não</td>\n",
       "      <td>0.0</td>\n",
       "      <td>662.0</td>\n",
       "      <td>83.12</td>\n",
       "      <td>-</td>\n",
       "    </tr>\n",
       "    <tr>\n",
       "      <th>493</th>\n",
       "      <td>xxx</td>\n",
       "      <td>não</td>\n",
       "      <td>0.0</td>\n",
       "      <td>979.0</td>\n",
       "      <td>95.50</td>\n",
       "      <td>-</td>\n",
       "    </tr>\n",
       "  </tbody>\n",
       "</table>\n",
       "<p>354 rows × 6 columns</p>\n",
       "</div>"
      ],
      "text/plain": [
       "    Possível aluno Deve? (Sim ou Não)  Sim? Quanto?  Score  \\\n",
       "0              xxx                não           0.0  871.0   \n",
       "1              xxx                não           0.0  498.0   \n",
       "2              xxx                não           0.0  974.0   \n",
       "3              xxx                não           0.0  790.0   \n",
       "4              xxx                não           0.0  816.0   \n",
       "..             ...                ...           ...    ...   \n",
       "488            xxx                não           0.0  452.0   \n",
       "490            xxx                não           0.0  411.0   \n",
       "491            xxx                não           0.0  360.0   \n",
       "492            xxx                não           0.0  662.0   \n",
       "493            xxx                não           0.0  979.0   \n",
       "\n",
       "     Chance de Pagamento (%) Valor Mínimo de Salário  \n",
       "0                      93.05                       -  \n",
       "1                      66.56                    2001  \n",
       "2                      95.50                    3001  \n",
       "3                      88.20            acimade10000  \n",
       "4                      93.05                       -  \n",
       "..                       ...                     ...  \n",
       "488                    66.56                       -  \n",
       "490                    66.56                       -  \n",
       "491                    49.69                       -  \n",
       "492                    83.12                       -  \n",
       "493                    95.50                       -  \n",
       "\n",
       "[354 rows x 6 columns]"
      ]
     },
     "execution_count": 221,
     "metadata": {},
     "output_type": "execute_result"
    }
   ],
   "source": [
    "df_novos_alunos = df_novos_alunos[(df_novos_alunos['Score'] > 246.86) & (df_novos_alunos['Chance de Pagamento (%)'] > 25.14)]\n",
    "df_novos_alunos"
   ]
  },
  {
   "cell_type": "code",
   "execution_count": 222,
   "metadata": {},
   "outputs": [
    {
     "data": {
      "text/html": [
       "<div>\n",
       "<style scoped>\n",
       "    .dataframe tbody tr th:only-of-type {\n",
       "        vertical-align: middle;\n",
       "    }\n",
       "\n",
       "    .dataframe tbody tr th {\n",
       "        vertical-align: top;\n",
       "    }\n",
       "\n",
       "    .dataframe thead th {\n",
       "        text-align: right;\n",
       "    }\n",
       "</style>\n",
       "<table border=\"1\" class=\"dataframe\">\n",
       "  <thead>\n",
       "    <tr style=\"text-align: right;\">\n",
       "      <th></th>\n",
       "      <th>Possível aluno</th>\n",
       "      <th>Deve? (Sim ou Não)</th>\n",
       "      <th>Sim? Quanto?</th>\n",
       "      <th>Score</th>\n",
       "      <th>Chance de Pagamento (%)</th>\n",
       "      <th>Valor Mínimo de Salário</th>\n",
       "    </tr>\n",
       "  </thead>\n",
       "  <tbody>\n",
       "    <tr>\n",
       "      <th>12</th>\n",
       "      <td>xxx</td>\n",
       "      <td>não</td>\n",
       "      <td>-</td>\n",
       "      <td>51.876,99</td>\n",
       "      <td>95,50</td>\n",
       "      <td>7.001</td>\n",
       "    </tr>\n",
       "    <tr>\n",
       "      <th>311</th>\n",
       "      <td>xxx</td>\n",
       "      <td>sim</td>\n",
       "      <td>689479</td>\n",
       "      <td>96</td>\n",
       "      <td>0.0086</td>\n",
       "      <td>1001</td>\n",
       "    </tr>\n",
       "  </tbody>\n",
       "</table>\n",
       "</div>"
      ],
      "text/plain": [
       "    Possível aluno Deve? (Sim ou Não) Sim? Quanto?      Score  \\\n",
       "12             xxx                não            -  51.876,99   \n",
       "311            xxx                sim       689479         96   \n",
       "\n",
       "    Chance de Pagamento (%) Valor Mínimo de Salário  \n",
       "12                    95,50                   7.001  \n",
       "311                  0.0086                    1001  "
      ]
     },
     "execution_count": 222,
     "metadata": {},
     "output_type": "execute_result"
    }
   ],
   "source": [
    "valores_estranhos"
   ]
  },
  {
   "cell_type": "code",
   "execution_count": 228,
   "metadata": {},
   "outputs": [],
   "source": [
    "negados.to_csv('Alunos_recusados.csv')"
   ]
  },
  {
   "cell_type": "code",
   "execution_count": 232,
   "metadata": {},
   "outputs": [],
   "source": [
    "valores_estranhos.to_csv('Valores_revisados.csv')"
   ]
  },
  {
   "cell_type": "code",
   "execution_count": 231,
   "metadata": {},
   "outputs": [],
   "source": [
    "df_novos_alunos.to_csv('Alunos aprovados.csv')"
   ]
  },
  {
   "cell_type": "code",
   "execution_count": null,
   "metadata": {},
   "outputs": [],
   "source": []
  }
 ],
 "metadata": {
  "kernelspec": {
   "display_name": "Python 3",
   "language": "python",
   "name": "python3"
  },
  "language_info": {
   "codemirror_mode": {
    "name": "ipython",
    "version": 3
   },
   "file_extension": ".py",
   "mimetype": "text/x-python",
   "name": "python",
   "nbconvert_exporter": "python",
   "pygments_lexer": "ipython3",
   "version": "3.8.5"
  }
 },
 "nbformat": 4,
 "nbformat_minor": 4
}
