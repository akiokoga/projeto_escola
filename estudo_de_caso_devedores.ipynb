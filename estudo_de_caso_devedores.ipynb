{
 "cells": [
  {
   "cell_type": "markdown",
   "metadata": {},
   "source": [
    "Estudo de Caso\n",
    "\n",
    "Aqui na Escola Mais, uma área muito importante é a área de Cobrança, que garante o recebimento de crédito de inadimplentes, garantindo a segurança e a saúde financeira da instituição.\n",
    "\n",
    "A planilha do link abaixo é composta de 3 abas diferentes:\n",
    "\n",
    "Base de Devedores - Pais de alunos atuais que constam em nossa base como inadimplentes\n",
    "Candidatos a Alunos - Pais de possíveis futuros alunos da escola\n",
    "Resolução - Espaço para RESPOSTA DEFINITIVA DO CANDIDATO\n",
    "\n",
    "Um bom trabalho de análise de dados irá evitar que pais inadimplentes sequer se matriculem na escola, garantindo uma menor taxa de inadimplência. Utilizando seus conhecimentos de análise de dados e as informações da nossa base de dados atual (Aba “Base Devedores”), determine um critério de linha de corte para garantir um bom equilíbrio entre inadimplência e número de alunos matriculados (não adianta ter uma análise de inadimplência que corte 50% dos novos alunos).\n",
    "\n",
    "Orientações:\n",
    "\n",
    "Crie uma cópia da planilha disponibilizada no link abaixo e trabalhe nela em seu computador. Cole o link da nova planilha (contendo a sua resposta) no campo abaixo como resposta do estudo de caso. Fique à vontade para criar quantas abas forem necessárias para seu rascunho. Apresente sua resposta de maneira sucinta, sem deixar de lado o embasamento analítico por trás da resposta.\n"
   ]
  },
  {
   "cell_type": "markdown",
   "metadata": {},
   "source": [
    "# VISUALIZAÇÃO DOS DADOS"
   ]
  },
  {
   "cell_type": "code",
   "execution_count": 1,
   "metadata": {},
   "outputs": [],
   "source": [
    "#### Primeiramente iremos importar a planilha para analisar os dados \n",
    "import pandas as pd\n",
    "import seaborn as sns\n",
    "import matplotlib.pyplot as plt"
   ]
  },
  {
   "cell_type": "code",
   "execution_count": 2,
   "metadata": {},
   "outputs": [],
   "source": [
    "df = pd.read_csv(\"C://Users//HENRIQUE//Documents//processo_seletivo_escola//Case Vaga Estágio - Base de Devedores.csv\")"
   ]
  },
  {
   "cell_type": "code",
   "execution_count": 3,
   "metadata": {},
   "outputs": [
    {
     "name": "stdout",
     "output_type": "stream",
     "text": [
      "<class 'pandas.core.frame.DataFrame'>\n",
      "RangeIndex: 118 entries, 0 to 117\n",
      "Data columns (total 6 columns):\n",
      " #   Column                   Non-Null Count  Dtype \n",
      "---  ------                   --------------  ----- \n",
      " 0   CPF                      118 non-null    object\n",
      " 1   Deve? (Sim ou Não)       118 non-null    object\n",
      " 2   Sim? Quanto?             118 non-null    object\n",
      " 3   Score                    118 non-null    int64 \n",
      " 4   Chance de Pagamento (%)  118 non-null    object\n",
      " 5   Valor Mínimo de Salário  118 non-null    object\n",
      "dtypes: int64(1), object(5)\n",
      "memory usage: 5.7+ KB\n"
     ]
    }
   ],
   "source": [
    "df.info()"
   ]
  },
  {
   "cell_type": "code",
   "execution_count": 4,
   "metadata": {},
   "outputs": [
    {
     "data": {
      "text/html": [
       "<div>\n",
       "<style scoped>\n",
       "    .dataframe tbody tr th:only-of-type {\n",
       "        vertical-align: middle;\n",
       "    }\n",
       "\n",
       "    .dataframe tbody tr th {\n",
       "        vertical-align: top;\n",
       "    }\n",
       "\n",
       "    .dataframe thead th {\n",
       "        text-align: right;\n",
       "    }\n",
       "</style>\n",
       "<table border=\"1\" class=\"dataframe\">\n",
       "  <thead>\n",
       "    <tr style=\"text-align: right;\">\n",
       "      <th></th>\n",
       "      <th>CPF</th>\n",
       "      <th>Deve? (Sim ou Não)</th>\n",
       "      <th>Sim? Quanto?</th>\n",
       "      <th>Score</th>\n",
       "      <th>Chance de Pagamento (%)</th>\n",
       "      <th>Valor Mínimo de Salário</th>\n",
       "    </tr>\n",
       "  </thead>\n",
       "  <tbody>\n",
       "    <tr>\n",
       "      <th>0</th>\n",
       "      <td>xxx</td>\n",
       "      <td>sim</td>\n",
       "      <td>18.455,10</td>\n",
       "      <td>16</td>\n",
       "      <td>0,86</td>\n",
       "      <td>3.001</td>\n",
       "    </tr>\n",
       "    <tr>\n",
       "      <th>1</th>\n",
       "      <td>xxx</td>\n",
       "      <td>sim</td>\n",
       "      <td>1.118,00</td>\n",
       "      <td>237</td>\n",
       "      <td>17,87</td>\n",
       "      <td>3.001</td>\n",
       "    </tr>\n",
       "    <tr>\n",
       "      <th>2</th>\n",
       "      <td>xxx</td>\n",
       "      <td>sim</td>\n",
       "      <td>568,25</td>\n",
       "      <td>240</td>\n",
       "      <td>17,87</td>\n",
       "      <td>4.001</td>\n",
       "    </tr>\n",
       "    <tr>\n",
       "      <th>3</th>\n",
       "      <td>xxx</td>\n",
       "      <td>sim</td>\n",
       "      <td>23.169,27</td>\n",
       "      <td>18</td>\n",
       "      <td>0,86</td>\n",
       "      <td>1.001</td>\n",
       "    </tr>\n",
       "    <tr>\n",
       "      <th>4</th>\n",
       "      <td>xxx</td>\n",
       "      <td>sim</td>\n",
       "      <td>8.688,08</td>\n",
       "      <td>204</td>\n",
       "      <td>17,87</td>\n",
       "      <td>2.001</td>\n",
       "    </tr>\n",
       "  </tbody>\n",
       "</table>\n",
       "</div>"
      ],
      "text/plain": [
       "   CPF Deve? (Sim ou Não) Sim? Quanto?  Score Chance de Pagamento (%)  \\\n",
       "0  xxx               sim     18.455,10     16                    0,86   \n",
       "1  xxx               sim      1.118,00    237                   17,87   \n",
       "2  xxx               sim        568,25    240                   17,87   \n",
       "3  xxx               sim     23.169,27     18                    0,86   \n",
       "4  xxx               sim      8.688,08    204                   17,87   \n",
       "\n",
       "  Valor Mínimo de Salário  \n",
       "0                   3.001  \n",
       "1                   3.001  \n",
       "2                   4.001  \n",
       "3                   1.001  \n",
       "4                   2.001  "
      ]
     },
     "execution_count": 4,
     "metadata": {},
     "output_type": "execute_result"
    }
   ],
   "source": [
    "df.head()"
   ]
  },
  {
   "cell_type": "code",
   "execution_count": 5,
   "metadata": {},
   "outputs": [
    {
     "data": {
      "text/html": [
       "<div>\n",
       "<style scoped>\n",
       "    .dataframe tbody tr th:only-of-type {\n",
       "        vertical-align: middle;\n",
       "    }\n",
       "\n",
       "    .dataframe tbody tr th {\n",
       "        vertical-align: top;\n",
       "    }\n",
       "\n",
       "    .dataframe thead th {\n",
       "        text-align: right;\n",
       "    }\n",
       "</style>\n",
       "<table border=\"1\" class=\"dataframe\">\n",
       "  <thead>\n",
       "    <tr style=\"text-align: right;\">\n",
       "      <th></th>\n",
       "      <th>CPF</th>\n",
       "      <th>Deve? (Sim ou Não)</th>\n",
       "      <th>Sim? Quanto?</th>\n",
       "      <th>Score</th>\n",
       "      <th>Chance de Pagamento (%)</th>\n",
       "      <th>Valor Mínimo de Salário</th>\n",
       "    </tr>\n",
       "  </thead>\n",
       "  <tbody>\n",
       "    <tr>\n",
       "      <th>0</th>\n",
       "      <td>xxx</td>\n",
       "      <td>sim</td>\n",
       "      <td>18.455,10</td>\n",
       "      <td>16</td>\n",
       "      <td>0,86</td>\n",
       "      <td>3.001</td>\n",
       "    </tr>\n",
       "    <tr>\n",
       "      <th>1</th>\n",
       "      <td>xxx</td>\n",
       "      <td>sim</td>\n",
       "      <td>1.118,00</td>\n",
       "      <td>237</td>\n",
       "      <td>17,87</td>\n",
       "      <td>3.001</td>\n",
       "    </tr>\n",
       "    <tr>\n",
       "      <th>2</th>\n",
       "      <td>xxx</td>\n",
       "      <td>sim</td>\n",
       "      <td>568,25</td>\n",
       "      <td>240</td>\n",
       "      <td>17,87</td>\n",
       "      <td>4.001</td>\n",
       "    </tr>\n",
       "    <tr>\n",
       "      <th>3</th>\n",
       "      <td>xxx</td>\n",
       "      <td>sim</td>\n",
       "      <td>23.169,27</td>\n",
       "      <td>18</td>\n",
       "      <td>0,86</td>\n",
       "      <td>1.001</td>\n",
       "    </tr>\n",
       "    <tr>\n",
       "      <th>4</th>\n",
       "      <td>xxx</td>\n",
       "      <td>sim</td>\n",
       "      <td>8.688,08</td>\n",
       "      <td>204</td>\n",
       "      <td>17,87</td>\n",
       "      <td>2.001</td>\n",
       "    </tr>\n",
       "    <tr>\n",
       "      <th>...</th>\n",
       "      <td>...</td>\n",
       "      <td>...</td>\n",
       "      <td>...</td>\n",
       "      <td>...</td>\n",
       "      <td>...</td>\n",
       "      <td>...</td>\n",
       "    </tr>\n",
       "    <tr>\n",
       "      <th>113</th>\n",
       "      <td>xxx</td>\n",
       "      <td>sim</td>\n",
       "      <td>6.166,59</td>\n",
       "      <td>252</td>\n",
       "      <td>17,87</td>\n",
       "      <td>1.001</td>\n",
       "    </tr>\n",
       "    <tr>\n",
       "      <th>114</th>\n",
       "      <td>xxx</td>\n",
       "      <td>não</td>\n",
       "      <td>-</td>\n",
       "      <td>430</td>\n",
       "      <td>66,56</td>\n",
       "      <td>2.001</td>\n",
       "    </tr>\n",
       "    <tr>\n",
       "      <th>115</th>\n",
       "      <td>xxx</td>\n",
       "      <td>sim</td>\n",
       "      <td>801,58</td>\n",
       "      <td>21</td>\n",
       "      <td>0,86</td>\n",
       "      <td>3.001</td>\n",
       "    </tr>\n",
       "    <tr>\n",
       "      <th>116</th>\n",
       "      <td>xxx</td>\n",
       "      <td>sim</td>\n",
       "      <td>60.846,22</td>\n",
       "      <td>25</td>\n",
       "      <td>0,86</td>\n",
       "      <td>1.001</td>\n",
       "    </tr>\n",
       "    <tr>\n",
       "      <th>117</th>\n",
       "      <td>xxx</td>\n",
       "      <td>sim</td>\n",
       "      <td>8.688,08</td>\n",
       "      <td>204</td>\n",
       "      <td>17,87</td>\n",
       "      <td>2.001</td>\n",
       "    </tr>\n",
       "  </tbody>\n",
       "</table>\n",
       "<p>118 rows × 6 columns</p>\n",
       "</div>"
      ],
      "text/plain": [
       "     CPF Deve? (Sim ou Não) Sim? Quanto?  Score Chance de Pagamento (%)  \\\n",
       "0    xxx               sim     18.455,10     16                    0,86   \n",
       "1    xxx               sim      1.118,00    237                   17,87   \n",
       "2    xxx               sim        568,25    240                   17,87   \n",
       "3    xxx               sim     23.169,27     18                    0,86   \n",
       "4    xxx               sim      8.688,08    204                   17,87   \n",
       "..   ...                ...          ...    ...                     ...   \n",
       "113  xxx                sim     6.166,59    252                   17,87   \n",
       "114  xxx                não            -    430                   66,56   \n",
       "115  xxx                sim       801,58     21                    0,86   \n",
       "116  xxx                sim    60.846,22     25                    0,86   \n",
       "117  xxx               sim      8.688,08    204                   17,87   \n",
       "\n",
       "    Valor Mínimo de Salário  \n",
       "0                     3.001  \n",
       "1                     3.001  \n",
       "2                     4.001  \n",
       "3                     1.001  \n",
       "4                     2.001  \n",
       "..                      ...  \n",
       "113                   1.001  \n",
       "114                   2.001  \n",
       "115                   3.001  \n",
       "116                   1.001  \n",
       "117                   2.001  \n",
       "\n",
       "[118 rows x 6 columns]"
      ]
     },
     "execution_count": 5,
     "metadata": {},
     "output_type": "execute_result"
    }
   ],
   "source": [
    "df"
   ]
  },
  {
   "cell_type": "markdown",
   "metadata": {},
   "source": [
    "## Realizando limpeza dos nossos dados\n",
    "\n",
    "Começamos fazendo a limpeza dos dados"
   ]
  },
  {
   "cell_type": "markdown",
   "metadata": {},
   "source": [
    "### Verificando a tipagem dos dados\n",
    "\n",
    "Verificamos o tipo de cada dado, e verificamos que o Type de cada um é object, devemos transformar em float64"
   ]
  },
  {
   "cell_type": "code",
   "execution_count": 6,
   "metadata": {},
   "outputs": [
    {
     "data": {
      "text/plain": [
       "CPF                        object\n",
       "Deve? (Sim ou Não)         object\n",
       "Sim? Quanto?               object\n",
       "Score                       int64\n",
       "Chance de Pagamento (%)    object\n",
       "Valor Mínimo de Salário    object\n",
       "dtype: object"
      ]
     },
     "execution_count": 6,
     "metadata": {},
     "output_type": "execute_result"
    }
   ],
   "source": [
    "df.dtypes"
   ]
  },
  {
   "cell_type": "markdown",
   "metadata": {},
   "source": [
    "### Coluna Deve? (Sim ou Não)\n",
    "\n",
    "Verificamos que essa coluna possui valores com espaços, que atrapalham em sua classificação, vamos realizar a limpeza dos dados"
   ]
  },
  {
   "cell_type": "code",
   "execution_count": 7,
   "metadata": {},
   "outputs": [
    {
     "data": {
      "text/plain": [
       "array(['sim ', 'não ', 'sim', 'não'], dtype=object)"
      ]
     },
     "execution_count": 7,
     "metadata": {},
     "output_type": "execute_result"
    }
   ],
   "source": [
    "# Conseguimos verificar que existem valores de sim e não com espaços\n",
    "# Precisamos realizar a limpeza desses dados\n",
    "df[\"Deve? (Sim ou Não)\"].unique()"
   ]
  },
  {
   "cell_type": "code",
   "execution_count": 8,
   "metadata": {},
   "outputs": [],
   "source": [
    "df[\"Deve? (Sim ou Não)\"] = df[\"Deve? (Sim ou Não)\"].map({'sim ':'sim',\n",
    "                                                        'não ': 'não',\n",
    "                                                        'sim': 'sim',\n",
    "                                                        'não': 'não'})"
   ]
  },
  {
   "cell_type": "code",
   "execution_count": 9,
   "metadata": {},
   "outputs": [
    {
     "data": {
      "text/plain": [
       "array(['sim', 'não'], dtype=object)"
      ]
     },
     "execution_count": 9,
     "metadata": {},
     "output_type": "execute_result"
    }
   ],
   "source": [
    "# Agora conseguimos verificar a lista correta sem valores com espaços \n",
    "df[\"Deve? (Sim ou Não)\"].unique()"
   ]
  },
  {
   "cell_type": "markdown",
   "metadata": {},
   "source": [
    "### Coluna Sim? Quanto?"
   ]
  },
  {
   "cell_type": "code",
   "execution_count": 10,
   "metadata": {},
   "outputs": [
    {
     "data": {
      "text/plain": [
       "array(['18.455,10', '1.118,00', '568,25', '23.169,27', '8.688,08',\n",
       "       '2.692,84', '-', '2 cheques sem fundo (não consta valor) ',\n",
       "       '1.877,23', '10.522,58', '1.414,82', '4.021,39', '8.650,77',\n",
       "       '8.933,56', '26.226,32', '2.472,70', '8.484,64', '5.154,45',\n",
       "       '19.631,97', '356,11', '385,25', '801,79', '335.417,25',\n",
       "       '56.284,36', '214,18', '237,49', '14.238,20', '96.928,61',\n",
       "       '54.208,49', '304,54', '1.371.225,38', '4.776,45', '433,64',\n",
       "       '422,32', '3.984,40', '33.451,23', '3.721,09', '1.015,82',\n",
       "       '47.103,2', '3.506,17', '753,00', '6.503,52', '6.855,92', '629,16',\n",
       "       '7.283,14', '140.990,45', '149.433,5', '11.319,83', '15.874,73',\n",
       "       '1.217,58', '284,73', '9.950,63', '14.926,29', '22.264,28',\n",
       "       '3.212,22', '21.792,49', '5.012,39', '101.933,08', '28.198,25',\n",
       "       '6.278,09', '2.655,56', '23.230,01', '26.247,9', '6.949,4',\n",
       "       '819,49', '207,77', '3.103,91', '4.496,38', '12.623,19',\n",
       "       '10.639,97', '2.214,99', '8.729,89', '151,30', '21.394,91',\n",
       "       '5.037,7', '3.092,14', '1.441,17', '14.354,71', '271,81',\n",
       "       '1.664,24', '6.636,52', '19.554,3', '2.841,5', '80.881,58',\n",
       "       '5.252,48', '25.368,48', '6.166,59', '801,58', '60.846,22'],\n",
       "      dtype=object)"
      ]
     },
     "execution_count": 10,
     "metadata": {},
     "output_type": "execute_result"
    }
   ],
   "source": [
    "df[\"Sim? Quanto?\"].unique()"
   ]
  },
  {
   "cell_type": "markdown",
   "metadata": {},
   "source": [
    "#### Cheque sem fundo\n",
    "Devemos verificar se o cheque sem fundo foi passado propositalmente ou foi uma atitude sem a real intenção de ocasionar prejuízos a instituição de ensino\n",
    "\n",
    "De acordo com a chance de pagamento alta, podemos supor que o encaminhamento de cheques sem fundo não foi realizado de forma intencional, este indìviduo deve ser contatado para avaliar sobre as questões de pagamento."
   ]
  },
  {
   "cell_type": "code",
   "execution_count": 11,
   "metadata": {},
   "outputs": [
    {
     "data": {
      "text/html": [
       "<div>\n",
       "<style scoped>\n",
       "    .dataframe tbody tr th:only-of-type {\n",
       "        vertical-align: middle;\n",
       "    }\n",
       "\n",
       "    .dataframe tbody tr th {\n",
       "        vertical-align: top;\n",
       "    }\n",
       "\n",
       "    .dataframe thead th {\n",
       "        text-align: right;\n",
       "    }\n",
       "</style>\n",
       "<table border=\"1\" class=\"dataframe\">\n",
       "  <thead>\n",
       "    <tr style=\"text-align: right;\">\n",
       "      <th></th>\n",
       "      <th>CPF</th>\n",
       "      <th>Deve? (Sim ou Não)</th>\n",
       "      <th>Sim? Quanto?</th>\n",
       "      <th>Score</th>\n",
       "      <th>Chance de Pagamento (%)</th>\n",
       "      <th>Valor Mínimo de Salário</th>\n",
       "    </tr>\n",
       "  </thead>\n",
       "  <tbody>\n",
       "    <tr>\n",
       "      <th>7</th>\n",
       "      <td>xxx</td>\n",
       "      <td>sim</td>\n",
       "      <td>2 cheques sem fundo (não consta valor)</td>\n",
       "      <td>600</td>\n",
       "      <td>77,51</td>\n",
       "      <td>3.001</td>\n",
       "    </tr>\n",
       "  </tbody>\n",
       "</table>\n",
       "</div>"
      ],
      "text/plain": [
       "   CPF Deve? (Sim ou Não)                             Sim? Quanto?  Score  \\\n",
       "7  xxx                sim  2 cheques sem fundo (não consta valor)     600   \n",
       "\n",
       "  Chance de Pagamento (%) Valor Mínimo de Salário  \n",
       "7                   77,51                   3.001  "
      ]
     },
     "execution_count": 11,
     "metadata": {},
     "output_type": "execute_result"
    }
   ],
   "source": [
    "df[df[\"Sim? Quanto?\"] == '2 cheques sem fundo (não consta valor) ']"
   ]
  },
  {
   "cell_type": "code",
   "execution_count": 12,
   "metadata": {},
   "outputs": [],
   "source": [
    "cheque_sem_fundo = df[df[\"Sim? Quanto?\"] == '2 cheques sem fundo (não consta valor) ']"
   ]
  },
  {
   "cell_type": "code",
   "execution_count": 13,
   "metadata": {},
   "outputs": [],
   "source": [
    "# Vamos retirar do nosso conjunto de dados e verificar a parte a questão da pessoa que passou o cheque sem fundo \n",
    "df = df[df[\"Sim? Quanto?\"] != '2 cheques sem fundo (não consta valor) ']"
   ]
  },
  {
   "cell_type": "markdown",
   "metadata": {},
   "source": [
    "#### Convertendo valores para float64"
   ]
  },
  {
   "cell_type": "code",
   "execution_count": 14,
   "metadata": {},
   "outputs": [
    {
     "name": "stderr",
     "output_type": "stream",
     "text": [
      "<ipython-input-14-1b6e0da5761e>:3: SettingWithCopyWarning: \n",
      "A value is trying to be set on a copy of a slice from a DataFrame.\n",
      "Try using .loc[row_indexer,col_indexer] = value instead\n",
      "\n",
      "See the caveats in the documentation: https://pandas.pydata.org/pandas-docs/stable/user_guide/indexing.html#returning-a-view-versus-a-copy\n",
      "  df[\"Sim? Quanto?\"] = df[\"Sim? Quanto?\"].str.replace('.', '')\n",
      "<ipython-input-14-1b6e0da5761e>:5: SettingWithCopyWarning: \n",
      "A value is trying to be set on a copy of a slice from a DataFrame.\n",
      "Try using .loc[row_indexer,col_indexer] = value instead\n",
      "\n",
      "See the caveats in the documentation: https://pandas.pydata.org/pandas-docs/stable/user_guide/indexing.html#returning-a-view-versus-a-copy\n",
      "  df[\"Sim? Quanto?\"] = df[\"Sim? Quanto?\"].str.replace(',', '.')\n",
      "<ipython-input-14-1b6e0da5761e>:7: SettingWithCopyWarning: \n",
      "A value is trying to be set on a copy of a slice from a DataFrame.\n",
      "Try using .loc[row_indexer,col_indexer] = value instead\n",
      "\n",
      "See the caveats in the documentation: https://pandas.pydata.org/pandas-docs/stable/user_guide/indexing.html#returning-a-view-versus-a-copy\n",
      "  df[\"Sim? Quanto?\"] = df[\"Sim? Quanto?\"].str.replace('-', '0')\n"
     ]
    }
   ],
   "source": [
    "# Primeiro iremos colocar os valores como valor interpretável pelo python\n",
    "# O valor ponto não existe em python, ele é considerado como vírgula, portanto vamos retirar esse valores\n",
    "df[\"Sim? Quanto?\"] = df[\"Sim? Quanto?\"].str.replace('.', '')\n",
    "# A vírgula no Brasil, para número decimal deve ser convertida como ponto para visualizar em Python\n",
    "df[\"Sim? Quanto?\"] = df[\"Sim? Quanto?\"].str.replace(',', '.')\n",
    "# Para conseguirmos verificar de forma numérica, vamos colocar a dívida em número, quem não deve nada o valor será 0\n",
    "df[\"Sim? Quanto?\"] = df[\"Sim? Quanto?\"].str.replace('-', '0')"
   ]
  },
  {
   "cell_type": "code",
   "execution_count": 15,
   "metadata": {},
   "outputs": [
    {
     "data": {
      "text/plain": [
       "0      18455.10\n",
       "1       1118.00\n",
       "2        568.25\n",
       "3      23169.27\n",
       "4       8688.08\n",
       "         ...   \n",
       "113     6166.59\n",
       "114           0\n",
       "115      801.58\n",
       "116    60846.22\n",
       "117     8688.08\n",
       "Name: Sim? Quanto?, Length: 117, dtype: object"
      ]
     },
     "execution_count": 15,
     "metadata": {},
     "output_type": "execute_result"
    }
   ],
   "source": [
    "df[\"Sim? Quanto?\"]"
   ]
  },
  {
   "cell_type": "code",
   "execution_count": 16,
   "metadata": {},
   "outputs": [
    {
     "name": "stderr",
     "output_type": "stream",
     "text": [
      "<ipython-input-16-4dee406cb9aa>:1: SettingWithCopyWarning: \n",
      "A value is trying to be set on a copy of a slice from a DataFrame.\n",
      "Try using .loc[row_indexer,col_indexer] = value instead\n",
      "\n",
      "See the caveats in the documentation: https://pandas.pydata.org/pandas-docs/stable/user_guide/indexing.html#returning-a-view-versus-a-copy\n",
      "  df[\"Sim? Quanto?\"] = df[\"Sim? Quanto?\"].astype('float64')\n"
     ]
    }
   ],
   "source": [
    "df[\"Sim? Quanto?\"] = df[\"Sim? Quanto?\"].astype('float64')"
   ]
  },
  {
   "cell_type": "markdown",
   "metadata": {},
   "source": [
    "### Coluna Score"
   ]
  },
  {
   "cell_type": "code",
   "execution_count": 17,
   "metadata": {},
   "outputs": [
    {
     "data": {
      "text/plain": [
       "array([ 16, 237, 240,  18, 204,  92, 329, 252, 522,  35, 251, 343, 225,\n",
       "        26, 484, 253,  25,  96, 379, 105, 177, 256, 234,  62, 352, 735,\n",
       "         9, 863, 115,  54, 925, 346, 377,  37,  66,  46,  42, 384, 169,\n",
       "       405, 213, 210, 672,  41, 409, 207, 216, 383, 192,  44,  88, 145,\n",
       "       634,   7, 369, 598, 243, 140,  81,  28,  73,  48, 222, 336, 885,\n",
       "        21,  12, 394,  69, 125, 550, 430,  50, 150, 166, 838,  19, 188],\n",
       "      dtype=int64)"
      ]
     },
     "execution_count": 17,
     "metadata": {},
     "output_type": "execute_result"
    }
   ],
   "source": [
    "df.Score.unique()"
   ]
  },
  {
   "cell_type": "markdown",
   "metadata": {},
   "source": [
    "### Coluna Chance de Pagamento (%)"
   ]
  },
  {
   "cell_type": "code",
   "execution_count": 18,
   "metadata": {},
   "outputs": [
    {
     "data": {
      "text/plain": [
       "Chance de Pagamento (%)\n",
       "0,86     45\n",
       "0.86      1\n",
       "17,87    28\n",
       "18,87     2\n",
       "2,99     15\n",
       "49,69    11\n",
       "66,56     5\n",
       "77,51     3\n",
       "83,12     2\n",
       "88,20     1\n",
       "93,05     3\n",
       "95,50     1\n",
       "Name: CPF, dtype: int64"
      ]
     },
     "execution_count": 18,
     "metadata": {},
     "output_type": "execute_result"
    }
   ],
   "source": [
    "# Vamos visualizar os nossos dados de forma agrupada\n",
    "# Podemos verificar que uma grande parcela do nosso grupo tem probabilidade alta de NÃO efetuar o pagamento\n",
    "df.groupby(\"Chance de Pagamento (%)\").count()['CPF']"
   ]
  },
  {
   "cell_type": "code",
   "execution_count": 19,
   "metadata": {},
   "outputs": [
    {
     "data": {
      "text/plain": [
       "array(['0,86', '17,87', '49,69', '77,51', '18,87', '66,56', '0.86',\n",
       "       '2,99', '88,20', '93,05', '95,50', '83,12'], dtype=object)"
      ]
     },
     "execution_count": 19,
     "metadata": {},
     "output_type": "execute_result"
    }
   ],
   "source": [
    "df[\"Chance de Pagamento (%)\"].unique()"
   ]
  },
  {
   "cell_type": "markdown",
   "metadata": {},
   "source": [
    "#### Convertendo valores para float64"
   ]
  },
  {
   "cell_type": "code",
   "execution_count": 20,
   "metadata": {},
   "outputs": [
    {
     "name": "stderr",
     "output_type": "stream",
     "text": [
      "<ipython-input-20-12edcf31959d>:1: SettingWithCopyWarning: \n",
      "A value is trying to be set on a copy of a slice from a DataFrame.\n",
      "Try using .loc[row_indexer,col_indexer] = value instead\n",
      "\n",
      "See the caveats in the documentation: https://pandas.pydata.org/pandas-docs/stable/user_guide/indexing.html#returning-a-view-versus-a-copy\n",
      "  df[\"Chance de Pagamento (%)\"] = df[\"Chance de Pagamento (%)\"].str.replace(',', '.')\n"
     ]
    }
   ],
   "source": [
    "df[\"Chance de Pagamento (%)\"] = df[\"Chance de Pagamento (%)\"].str.replace(',', '.')"
   ]
  },
  {
   "cell_type": "code",
   "execution_count": 21,
   "metadata": {},
   "outputs": [
    {
     "data": {
      "text/plain": [
       "0     0.86\n",
       "1    17.87\n",
       "2    17.87\n",
       "3     0.86\n",
       "4    17.87\n",
       "Name: Chance de Pagamento (%), dtype: object"
      ]
     },
     "execution_count": 21,
     "metadata": {},
     "output_type": "execute_result"
    }
   ],
   "source": [
    "df[\"Chance de Pagamento (%)\"].head()"
   ]
  },
  {
   "cell_type": "code",
   "execution_count": 22,
   "metadata": {},
   "outputs": [
    {
     "name": "stderr",
     "output_type": "stream",
     "text": [
      "<ipython-input-22-4654811f2188>:1: SettingWithCopyWarning: \n",
      "A value is trying to be set on a copy of a slice from a DataFrame.\n",
      "Try using .loc[row_indexer,col_indexer] = value instead\n",
      "\n",
      "See the caveats in the documentation: https://pandas.pydata.org/pandas-docs/stable/user_guide/indexing.html#returning-a-view-versus-a-copy\n",
      "  df[\"Chance de Pagamento (%)\"] = df[\"Chance de Pagamento (%)\"].astype('float64')\n"
     ]
    }
   ],
   "source": [
    "df[\"Chance de Pagamento (%)\"] = df[\"Chance de Pagamento (%)\"].astype('float64')"
   ]
  },
  {
   "cell_type": "markdown",
   "metadata": {},
   "source": [
    "### Coluna Valor Mínimo de Salário"
   ]
  },
  {
   "cell_type": "code",
   "execution_count": 23,
   "metadata": {},
   "outputs": [
    {
     "data": {
      "text/plain": [
       "0    3.001\n",
       "1    3.001\n",
       "2    4.001\n",
       "3    1.001\n",
       "4    2.001\n",
       "Name: Valor Mínimo de Salário, dtype: object"
      ]
     },
     "execution_count": 23,
     "metadata": {},
     "output_type": "execute_result"
    }
   ],
   "source": [
    "df['Valor Mínimo de Salário'].head()"
   ]
  },
  {
   "cell_type": "code",
   "execution_count": 24,
   "metadata": {},
   "outputs": [
    {
     "data": {
      "text/plain": [
       "array(['3.001', '4.001', '1.001', '2.001', '7.001', '5.001',\n",
       "       'acima de 10.000 ', '0', 'acima de 10.000'], dtype=object)"
      ]
     },
     "execution_count": 24,
     "metadata": {},
     "output_type": "execute_result"
    }
   ],
   "source": [
    "df['Valor Mínimo de Salário'].unique()"
   ]
  },
  {
   "cell_type": "code",
   "execution_count": 25,
   "metadata": {},
   "outputs": [
    {
     "name": "stderr",
     "output_type": "stream",
     "text": [
      "<ipython-input-25-a00b6ceaf475>:1: SettingWithCopyWarning: \n",
      "A value is trying to be set on a copy of a slice from a DataFrame.\n",
      "Try using .loc[row_indexer,col_indexer] = value instead\n",
      "\n",
      "See the caveats in the documentation: https://pandas.pydata.org/pandas-docs/stable/user_guide/indexing.html#returning-a-view-versus-a-copy\n",
      "  df['Valor Mínimo de Salário'] = df['Valor Mínimo de Salário'].str.replace('.', '')\n"
     ]
    }
   ],
   "source": [
    "df['Valor Mínimo de Salário'] = df['Valor Mínimo de Salário'].str.replace('.', '')"
   ]
  },
  {
   "cell_type": "markdown",
   "metadata": {},
   "source": [
    "#### Acima de 10000\n",
    "Apenas de forma aplicável, como não sabemos o salário dos que são classificados como acima de 10000 consideramos o slário desses individuos como 10000 para avaliar suas condições fincanceiras."
   ]
  },
  {
   "cell_type": "code",
   "execution_count": 26,
   "metadata": {},
   "outputs": [
    {
     "name": "stderr",
     "output_type": "stream",
     "text": [
      "<ipython-input-26-8dea93b01a2b>:1: SettingWithCopyWarning: \n",
      "A value is trying to be set on a copy of a slice from a DataFrame.\n",
      "Try using .loc[row_indexer,col_indexer] = value instead\n",
      "\n",
      "See the caveats in the documentation: https://pandas.pydata.org/pandas-docs/stable/user_guide/indexing.html#returning-a-view-versus-a-copy\n",
      "  df['Valor Mínimo de Salário'] = df['Valor Mínimo de Salário'].str.replace('acima de 10000 ', '10000')\n",
      "<ipython-input-26-8dea93b01a2b>:2: SettingWithCopyWarning: \n",
      "A value is trying to be set on a copy of a slice from a DataFrame.\n",
      "Try using .loc[row_indexer,col_indexer] = value instead\n",
      "\n",
      "See the caveats in the documentation: https://pandas.pydata.org/pandas-docs/stable/user_guide/indexing.html#returning-a-view-versus-a-copy\n",
      "  df['Valor Mínimo de Salário'] = df['Valor Mínimo de Salário'].str.replace('acima de 10000', '10000')\n"
     ]
    }
   ],
   "source": [
    "df['Valor Mínimo de Salário'] = df['Valor Mínimo de Salário'].str.replace('acima de 10000 ', '10000')\n",
    "df['Valor Mínimo de Salário'] = df['Valor Mínimo de Salário'].str.replace('acima de 10000', '10000')"
   ]
  },
  {
   "cell_type": "code",
   "execution_count": 27,
   "metadata": {},
   "outputs": [
    {
     "data": {
      "text/plain": [
       "array(['3001', '4001', '1001', '2001', '7001', '5001', '10000', '0'],\n",
       "      dtype=object)"
      ]
     },
     "execution_count": 27,
     "metadata": {},
     "output_type": "execute_result"
    }
   ],
   "source": [
    "df['Valor Mínimo de Salário'].unique()"
   ]
  },
  {
   "cell_type": "markdown",
   "metadata": {},
   "source": [
    "#### Convertendo os valores para o tipo float64"
   ]
  },
  {
   "cell_type": "code",
   "execution_count": 28,
   "metadata": {},
   "outputs": [
    {
     "name": "stderr",
     "output_type": "stream",
     "text": [
      "<ipython-input-28-07f4c1f00c91>:1: SettingWithCopyWarning: \n",
      "A value is trying to be set on a copy of a slice from a DataFrame.\n",
      "Try using .loc[row_indexer,col_indexer] = value instead\n",
      "\n",
      "See the caveats in the documentation: https://pandas.pydata.org/pandas-docs/stable/user_guide/indexing.html#returning-a-view-versus-a-copy\n",
      "  df['Valor Mínimo de Salário'] = df['Valor Mínimo de Salário'].astype('float64')\n"
     ]
    }
   ],
   "source": [
    "df['Valor Mínimo de Salário'] = df['Valor Mínimo de Salário'].astype('float64')"
   ]
  },
  {
   "cell_type": "markdown",
   "metadata": {},
   "source": [
    "## Analisando devedores"
   ]
  },
  {
   "cell_type": "code",
   "execution_count": 29,
   "metadata": {},
   "outputs": [
    {
     "data": {
      "text/plain": [
       "91"
      ]
     },
     "execution_count": 29,
     "metadata": {},
     "output_type": "execute_result"
    }
   ],
   "source": [
    "# Vamos analisar a quantidade de devedores\n",
    "devedores = df[df[\"Deve? (Sim ou Não)\"] == \"sim\"]\n",
    "devedores.CPF.count()"
   ]
  },
  {
   "cell_type": "code",
   "execution_count": 30,
   "metadata": {},
   "outputs": [
    {
     "data": {
      "text/html": [
       "<div>\n",
       "<style scoped>\n",
       "    .dataframe tbody tr th:only-of-type {\n",
       "        vertical-align: middle;\n",
       "    }\n",
       "\n",
       "    .dataframe tbody tr th {\n",
       "        vertical-align: top;\n",
       "    }\n",
       "\n",
       "    .dataframe thead th {\n",
       "        text-align: right;\n",
       "    }\n",
       "</style>\n",
       "<table border=\"1\" class=\"dataframe\">\n",
       "  <thead>\n",
       "    <tr style=\"text-align: right;\">\n",
       "      <th></th>\n",
       "      <th>CPF</th>\n",
       "      <th>Deve? (Sim ou Não)</th>\n",
       "      <th>Sim? Quanto?</th>\n",
       "      <th>Score</th>\n",
       "      <th>Chance de Pagamento (%)</th>\n",
       "      <th>Valor Mínimo de Salário</th>\n",
       "    </tr>\n",
       "  </thead>\n",
       "  <tbody>\n",
       "    <tr>\n",
       "      <th>0</th>\n",
       "      <td>xxx</td>\n",
       "      <td>sim</td>\n",
       "      <td>18455.10</td>\n",
       "      <td>16</td>\n",
       "      <td>0.86</td>\n",
       "      <td>3001.0</td>\n",
       "    </tr>\n",
       "    <tr>\n",
       "      <th>1</th>\n",
       "      <td>xxx</td>\n",
       "      <td>sim</td>\n",
       "      <td>1118.00</td>\n",
       "      <td>237</td>\n",
       "      <td>17.87</td>\n",
       "      <td>3001.0</td>\n",
       "    </tr>\n",
       "    <tr>\n",
       "      <th>2</th>\n",
       "      <td>xxx</td>\n",
       "      <td>sim</td>\n",
       "      <td>568.25</td>\n",
       "      <td>240</td>\n",
       "      <td>17.87</td>\n",
       "      <td>4001.0</td>\n",
       "    </tr>\n",
       "    <tr>\n",
       "      <th>3</th>\n",
       "      <td>xxx</td>\n",
       "      <td>sim</td>\n",
       "      <td>23169.27</td>\n",
       "      <td>18</td>\n",
       "      <td>0.86</td>\n",
       "      <td>1001.0</td>\n",
       "    </tr>\n",
       "    <tr>\n",
       "      <th>4</th>\n",
       "      <td>xxx</td>\n",
       "      <td>sim</td>\n",
       "      <td>8688.08</td>\n",
       "      <td>204</td>\n",
       "      <td>17.87</td>\n",
       "      <td>2001.0</td>\n",
       "    </tr>\n",
       "    <tr>\n",
       "      <th>...</th>\n",
       "      <td>...</td>\n",
       "      <td>...</td>\n",
       "      <td>...</td>\n",
       "      <td>...</td>\n",
       "      <td>...</td>\n",
       "      <td>...</td>\n",
       "    </tr>\n",
       "    <tr>\n",
       "      <th>112</th>\n",
       "      <td>xxx</td>\n",
       "      <td>sim</td>\n",
       "      <td>25368.48</td>\n",
       "      <td>145</td>\n",
       "      <td>2.99</td>\n",
       "      <td>1001.0</td>\n",
       "    </tr>\n",
       "    <tr>\n",
       "      <th>113</th>\n",
       "      <td>xxx</td>\n",
       "      <td>sim</td>\n",
       "      <td>6166.59</td>\n",
       "      <td>252</td>\n",
       "      <td>17.87</td>\n",
       "      <td>1001.0</td>\n",
       "    </tr>\n",
       "    <tr>\n",
       "      <th>115</th>\n",
       "      <td>xxx</td>\n",
       "      <td>sim</td>\n",
       "      <td>801.58</td>\n",
       "      <td>21</td>\n",
       "      <td>0.86</td>\n",
       "      <td>3001.0</td>\n",
       "    </tr>\n",
       "    <tr>\n",
       "      <th>116</th>\n",
       "      <td>xxx</td>\n",
       "      <td>sim</td>\n",
       "      <td>60846.22</td>\n",
       "      <td>25</td>\n",
       "      <td>0.86</td>\n",
       "      <td>1001.0</td>\n",
       "    </tr>\n",
       "    <tr>\n",
       "      <th>117</th>\n",
       "      <td>xxx</td>\n",
       "      <td>sim</td>\n",
       "      <td>8688.08</td>\n",
       "      <td>204</td>\n",
       "      <td>17.87</td>\n",
       "      <td>2001.0</td>\n",
       "    </tr>\n",
       "  </tbody>\n",
       "</table>\n",
       "<p>91 rows × 6 columns</p>\n",
       "</div>"
      ],
      "text/plain": [
       "     CPF Deve? (Sim ou Não)  Sim? Quanto?  Score  Chance de Pagamento (%)  \\\n",
       "0    xxx                sim      18455.10     16                     0.86   \n",
       "1    xxx                sim       1118.00    237                    17.87   \n",
       "2    xxx                sim        568.25    240                    17.87   \n",
       "3    xxx                sim      23169.27     18                     0.86   \n",
       "4    xxx                sim       8688.08    204                    17.87   \n",
       "..   ...                ...           ...    ...                      ...   \n",
       "112  xxx                sim      25368.48    145                     2.99   \n",
       "113  xxx                sim       6166.59    252                    17.87   \n",
       "115  xxx                sim        801.58     21                     0.86   \n",
       "116  xxx                sim      60846.22     25                     0.86   \n",
       "117  xxx                sim       8688.08    204                    17.87   \n",
       "\n",
       "     Valor Mínimo de Salário  \n",
       "0                     3001.0  \n",
       "1                     3001.0  \n",
       "2                     4001.0  \n",
       "3                     1001.0  \n",
       "4                     2001.0  \n",
       "..                       ...  \n",
       "112                   1001.0  \n",
       "113                   1001.0  \n",
       "115                   3001.0  \n",
       "116                   1001.0  \n",
       "117                   2001.0  \n",
       "\n",
       "[91 rows x 6 columns]"
      ]
     },
     "execution_count": 30,
     "metadata": {},
     "output_type": "execute_result"
    }
   ],
   "source": [
    "devedores"
   ]
  },
  {
   "cell_type": "code",
   "execution_count": 31,
   "metadata": {},
   "outputs": [
    {
     "data": {
      "text/plain": [
       "26"
      ]
     },
     "execution_count": 31,
     "metadata": {},
     "output_type": "execute_result"
    }
   ],
   "source": [
    "# Vamos analisar os que não possuem dívidas com a escola\n",
    "naodevedores = df[df[\"Deve? (Sim ou Não)\"] == \"não\"]\n",
    "naodevedores.CPF.count()"
   ]
  },
  {
   "cell_type": "code",
   "execution_count": 32,
   "metadata": {},
   "outputs": [
    {
     "data": {
      "text/html": [
       "<div>\n",
       "<style scoped>\n",
       "    .dataframe tbody tr th:only-of-type {\n",
       "        vertical-align: middle;\n",
       "    }\n",
       "\n",
       "    .dataframe tbody tr th {\n",
       "        vertical-align: top;\n",
       "    }\n",
       "\n",
       "    .dataframe thead th {\n",
       "        text-align: right;\n",
       "    }\n",
       "</style>\n",
       "<table border=\"1\" class=\"dataframe\">\n",
       "  <thead>\n",
       "    <tr style=\"text-align: right;\">\n",
       "      <th></th>\n",
       "      <th>CPF</th>\n",
       "      <th>Deve? (Sim ou Não)</th>\n",
       "      <th>Sim? Quanto?</th>\n",
       "      <th>Score</th>\n",
       "      <th>Chance de Pagamento (%)</th>\n",
       "      <th>Valor Mínimo de Salário</th>\n",
       "    </tr>\n",
       "  </thead>\n",
       "  <tbody>\n",
       "    <tr>\n",
       "      <th>6</th>\n",
       "      <td>xxx</td>\n",
       "      <td>não</td>\n",
       "      <td>0.0</td>\n",
       "      <td>329</td>\n",
       "      <td>49.69</td>\n",
       "      <td>1001.0</td>\n",
       "    </tr>\n",
       "    <tr>\n",
       "      <th>9</th>\n",
       "      <td>xxx</td>\n",
       "      <td>não</td>\n",
       "      <td>0.0</td>\n",
       "      <td>522</td>\n",
       "      <td>77.51</td>\n",
       "      <td>7001.0</td>\n",
       "    </tr>\n",
       "    <tr>\n",
       "      <th>12</th>\n",
       "      <td>xxx</td>\n",
       "      <td>não</td>\n",
       "      <td>0.0</td>\n",
       "      <td>343</td>\n",
       "      <td>49.69</td>\n",
       "      <td>5001.0</td>\n",
       "    </tr>\n",
       "    <tr>\n",
       "      <th>15</th>\n",
       "      <td>xxx</td>\n",
       "      <td>não</td>\n",
       "      <td>0.0</td>\n",
       "      <td>484</td>\n",
       "      <td>66.56</td>\n",
       "      <td>2001.0</td>\n",
       "    </tr>\n",
       "    <tr>\n",
       "      <th>20</th>\n",
       "      <td>xxx</td>\n",
       "      <td>não</td>\n",
       "      <td>0.0</td>\n",
       "      <td>379</td>\n",
       "      <td>49.69</td>\n",
       "      <td>2001.0</td>\n",
       "    </tr>\n",
       "    <tr>\n",
       "      <th>27</th>\n",
       "      <td>xxx</td>\n",
       "      <td>não</td>\n",
       "      <td>0.0</td>\n",
       "      <td>352</td>\n",
       "      <td>49.69</td>\n",
       "      <td>2001.0</td>\n",
       "    </tr>\n",
       "    <tr>\n",
       "      <th>28</th>\n",
       "      <td>xxx</td>\n",
       "      <td>não</td>\n",
       "      <td>0.0</td>\n",
       "      <td>735</td>\n",
       "      <td>88.20</td>\n",
       "      <td>10000.0</td>\n",
       "    </tr>\n",
       "    <tr>\n",
       "      <th>33</th>\n",
       "      <td>xxx</td>\n",
       "      <td>não</td>\n",
       "      <td>0.0</td>\n",
       "      <td>863</td>\n",
       "      <td>93.05</td>\n",
       "      <td>3001.0</td>\n",
       "    </tr>\n",
       "    <tr>\n",
       "      <th>37</th>\n",
       "      <td>xxx</td>\n",
       "      <td>não</td>\n",
       "      <td>0.0</td>\n",
       "      <td>925</td>\n",
       "      <td>95.50</td>\n",
       "      <td>3001.0</td>\n",
       "    </tr>\n",
       "    <tr>\n",
       "      <th>38</th>\n",
       "      <td>xxx</td>\n",
       "      <td>não</td>\n",
       "      <td>0.0</td>\n",
       "      <td>346</td>\n",
       "      <td>49.69</td>\n",
       "      <td>3001.0</td>\n",
       "    </tr>\n",
       "    <tr>\n",
       "      <th>40</th>\n",
       "      <td>xxx</td>\n",
       "      <td>não</td>\n",
       "      <td>0.0</td>\n",
       "      <td>377</td>\n",
       "      <td>49.69</td>\n",
       "      <td>5001.0</td>\n",
       "    </tr>\n",
       "    <tr>\n",
       "      <th>46</th>\n",
       "      <td>xxx</td>\n",
       "      <td>não</td>\n",
       "      <td>0.0</td>\n",
       "      <td>384</td>\n",
       "      <td>49.69</td>\n",
       "      <td>3001.0</td>\n",
       "    </tr>\n",
       "    <tr>\n",
       "      <th>48</th>\n",
       "      <td>xxx</td>\n",
       "      <td>não</td>\n",
       "      <td>0.0</td>\n",
       "      <td>405</td>\n",
       "      <td>66.56</td>\n",
       "      <td>2001.0</td>\n",
       "    </tr>\n",
       "    <tr>\n",
       "      <th>54</th>\n",
       "      <td>xxx</td>\n",
       "      <td>não</td>\n",
       "      <td>0.0</td>\n",
       "      <td>672</td>\n",
       "      <td>83.12</td>\n",
       "      <td>2001.0</td>\n",
       "    </tr>\n",
       "    <tr>\n",
       "      <th>61</th>\n",
       "      <td>xxx</td>\n",
       "      <td>não</td>\n",
       "      <td>0.0</td>\n",
       "      <td>409</td>\n",
       "      <td>66.56</td>\n",
       "      <td>1001.0</td>\n",
       "    </tr>\n",
       "    <tr>\n",
       "      <th>68</th>\n",
       "      <td>xxx</td>\n",
       "      <td>não</td>\n",
       "      <td>0.0</td>\n",
       "      <td>383</td>\n",
       "      <td>49.69</td>\n",
       "      <td>3001.0</td>\n",
       "    </tr>\n",
       "    <tr>\n",
       "      <th>74</th>\n",
       "      <td>xxx</td>\n",
       "      <td>não</td>\n",
       "      <td>0.0</td>\n",
       "      <td>634</td>\n",
       "      <td>83.12</td>\n",
       "      <td>1001.0</td>\n",
       "    </tr>\n",
       "    <tr>\n",
       "      <th>76</th>\n",
       "      <td>xxx</td>\n",
       "      <td>não</td>\n",
       "      <td>0.0</td>\n",
       "      <td>369</td>\n",
       "      <td>49.69</td>\n",
       "      <td>3001.0</td>\n",
       "    </tr>\n",
       "    <tr>\n",
       "      <th>77</th>\n",
       "      <td>xxx</td>\n",
       "      <td>não</td>\n",
       "      <td>0.0</td>\n",
       "      <td>598</td>\n",
       "      <td>77.51</td>\n",
       "      <td>3001.0</td>\n",
       "    </tr>\n",
       "    <tr>\n",
       "      <th>89</th>\n",
       "      <td>xxx</td>\n",
       "      <td>não</td>\n",
       "      <td>0.0</td>\n",
       "      <td>336</td>\n",
       "      <td>49.69</td>\n",
       "      <td>10000.0</td>\n",
       "    </tr>\n",
       "    <tr>\n",
       "      <th>90</th>\n",
       "      <td>xxx</td>\n",
       "      <td>não</td>\n",
       "      <td>0.0</td>\n",
       "      <td>885</td>\n",
       "      <td>93.05</td>\n",
       "      <td>3001.0</td>\n",
       "    </tr>\n",
       "    <tr>\n",
       "      <th>94</th>\n",
       "      <td>xxx</td>\n",
       "      <td>não</td>\n",
       "      <td>0.0</td>\n",
       "      <td>394</td>\n",
       "      <td>49.69</td>\n",
       "      <td>2001.0</td>\n",
       "    </tr>\n",
       "    <tr>\n",
       "      <th>99</th>\n",
       "      <td>xxx</td>\n",
       "      <td>não</td>\n",
       "      <td>0.0</td>\n",
       "      <td>550</td>\n",
       "      <td>77.51</td>\n",
       "      <td>1001.0</td>\n",
       "    </tr>\n",
       "    <tr>\n",
       "      <th>100</th>\n",
       "      <td>xxx</td>\n",
       "      <td>não</td>\n",
       "      <td>0.0</td>\n",
       "      <td>430</td>\n",
       "      <td>66.56</td>\n",
       "      <td>3001.0</td>\n",
       "    </tr>\n",
       "    <tr>\n",
       "      <th>105</th>\n",
       "      <td>xxx</td>\n",
       "      <td>não</td>\n",
       "      <td>0.0</td>\n",
       "      <td>838</td>\n",
       "      <td>93.05</td>\n",
       "      <td>2001.0</td>\n",
       "    </tr>\n",
       "    <tr>\n",
       "      <th>114</th>\n",
       "      <td>xxx</td>\n",
       "      <td>não</td>\n",
       "      <td>0.0</td>\n",
       "      <td>430</td>\n",
       "      <td>66.56</td>\n",
       "      <td>2001.0</td>\n",
       "    </tr>\n",
       "  </tbody>\n",
       "</table>\n",
       "</div>"
      ],
      "text/plain": [
       "     CPF Deve? (Sim ou Não)  Sim? Quanto?  Score  Chance de Pagamento (%)  \\\n",
       "6    xxx                não           0.0    329                    49.69   \n",
       "9    xxx                não           0.0    522                    77.51   \n",
       "12   xxx                não           0.0    343                    49.69   \n",
       "15   xxx                não           0.0    484                    66.56   \n",
       "20   xxx                não           0.0    379                    49.69   \n",
       "27   xxx                não           0.0    352                    49.69   \n",
       "28   xxx                não           0.0    735                    88.20   \n",
       "33   xxx                não           0.0    863                    93.05   \n",
       "37   xxx                não           0.0    925                    95.50   \n",
       "38   xxx                não           0.0    346                    49.69   \n",
       "40   xxx                não           0.0    377                    49.69   \n",
       "46   xxx                não           0.0    384                    49.69   \n",
       "48   xxx                não           0.0    405                    66.56   \n",
       "54   xxx                não           0.0    672                    83.12   \n",
       "61   xxx                não           0.0    409                    66.56   \n",
       "68   xxx                não           0.0    383                    49.69   \n",
       "74   xxx                não           0.0    634                    83.12   \n",
       "76   xxx                não           0.0    369                    49.69   \n",
       "77   xxx                não           0.0    598                    77.51   \n",
       "89   xxx                não           0.0    336                    49.69   \n",
       "90   xxx                não           0.0    885                    93.05   \n",
       "94   xxx                não           0.0    394                    49.69   \n",
       "99   xxx                não           0.0    550                    77.51   \n",
       "100  xxx                não           0.0    430                    66.56   \n",
       "105  xxx                não           0.0    838                    93.05   \n",
       "114  xxx                não           0.0    430                    66.56   \n",
       "\n",
       "     Valor Mínimo de Salário  \n",
       "6                     1001.0  \n",
       "9                     7001.0  \n",
       "12                    5001.0  \n",
       "15                    2001.0  \n",
       "20                    2001.0  \n",
       "27                    2001.0  \n",
       "28                   10000.0  \n",
       "33                    3001.0  \n",
       "37                    3001.0  \n",
       "38                    3001.0  \n",
       "40                    5001.0  \n",
       "46                    3001.0  \n",
       "48                    2001.0  \n",
       "54                    2001.0  \n",
       "61                    1001.0  \n",
       "68                    3001.0  \n",
       "74                    1001.0  \n",
       "76                    3001.0  \n",
       "77                    3001.0  \n",
       "89                   10000.0  \n",
       "90                    3001.0  \n",
       "94                    2001.0  \n",
       "99                    1001.0  \n",
       "100                   3001.0  \n",
       "105                   2001.0  \n",
       "114                   2001.0  "
      ]
     },
     "execution_count": 32,
     "metadata": {},
     "output_type": "execute_result"
    }
   ],
   "source": [
    "naodevedores"
   ]
  },
  {
   "cell_type": "markdown",
   "metadata": {},
   "source": [
    "## Analisando a correlação entre os valores\n",
    "Verificando a correlação entre os valores, podemos verificar que a representação entre probabilidade de pagamento e score representam praticamente a mesma informação, portanto podemos levar em análise apenas uma dessas duas colunas"
   ]
  },
  {
   "cell_type": "code",
   "execution_count": 33,
   "metadata": {},
   "outputs": [
    {
     "data": {
      "text/html": [
       "<div>\n",
       "<style scoped>\n",
       "    .dataframe tbody tr th:only-of-type {\n",
       "        vertical-align: middle;\n",
       "    }\n",
       "\n",
       "    .dataframe tbody tr th {\n",
       "        vertical-align: top;\n",
       "    }\n",
       "\n",
       "    .dataframe thead th {\n",
       "        text-align: right;\n",
       "    }\n",
       "</style>\n",
       "<table border=\"1\" class=\"dataframe\">\n",
       "  <thead>\n",
       "    <tr style=\"text-align: right;\">\n",
       "      <th></th>\n",
       "      <th>Sim? Quanto?</th>\n",
       "      <th>Score</th>\n",
       "      <th>Chance de Pagamento (%)</th>\n",
       "      <th>Valor Mínimo de Salário</th>\n",
       "    </tr>\n",
       "  </thead>\n",
       "  <tbody>\n",
       "    <tr>\n",
       "      <th>Sim? Quanto?</th>\n",
       "      <td>1.000000</td>\n",
       "      <td>-0.156084</td>\n",
       "      <td>-0.131095</td>\n",
       "      <td>0.075189</td>\n",
       "    </tr>\n",
       "    <tr>\n",
       "      <th>Score</th>\n",
       "      <td>-0.156084</td>\n",
       "      <td>1.000000</td>\n",
       "      <td>0.956353</td>\n",
       "      <td>0.088572</td>\n",
       "    </tr>\n",
       "    <tr>\n",
       "      <th>Chance de Pagamento (%)</th>\n",
       "      <td>-0.131095</td>\n",
       "      <td>0.956353</td>\n",
       "      <td>1.000000</td>\n",
       "      <td>0.084441</td>\n",
       "    </tr>\n",
       "    <tr>\n",
       "      <th>Valor Mínimo de Salário</th>\n",
       "      <td>0.075189</td>\n",
       "      <td>0.088572</td>\n",
       "      <td>0.084441</td>\n",
       "      <td>1.000000</td>\n",
       "    </tr>\n",
       "  </tbody>\n",
       "</table>\n",
       "</div>"
      ],
      "text/plain": [
       "                         Sim? Quanto?     Score  Chance de Pagamento (%)  \\\n",
       "Sim? Quanto?                 1.000000 -0.156084                -0.131095   \n",
       "Score                       -0.156084  1.000000                 0.956353   \n",
       "Chance de Pagamento (%)     -0.131095  0.956353                 1.000000   \n",
       "Valor Mínimo de Salário      0.075189  0.088572                 0.084441   \n",
       "\n",
       "                         Valor Mínimo de Salário  \n",
       "Sim? Quanto?                            0.075189  \n",
       "Score                                   0.088572  \n",
       "Chance de Pagamento (%)                 0.084441  \n",
       "Valor Mínimo de Salário                 1.000000  "
      ]
     },
     "execution_count": 33,
     "metadata": {},
     "output_type": "execute_result"
    }
   ],
   "source": [
    "df.corr()"
   ]
  },
  {
   "cell_type": "code",
   "execution_count": 34,
   "metadata": {},
   "outputs": [
    {
     "data": {
      "image/png": "[encoded data removed]",
      "text/plain": [
       "<Figure size 432x288 with 2 Axes>"
      ]
     },
     "metadata": {
      "needs_background": "light"
     },
     "output_type": "display_data"
    }
   ],
   "source": [
    "ax = sns.heatmap(df.corr(), linewidths=.5)"
   ]
  },
  {
   "cell_type": "markdown",
   "metadata": {},
   "source": [
    "## Vamos agora analisar a proporção salário/divida"
   ]
  },
  {
   "cell_type": "code",
   "execution_count": 35,
   "metadata": {},
   "outputs": [
    {
     "name": "stderr",
     "output_type": "stream",
     "text": [
      "<ipython-input-35-84516fc12b37>:3: SettingWithCopyWarning: \n",
      "A value is trying to be set on a copy of a slice from a DataFrame.\n",
      "Try using .loc[row_indexer,col_indexer] = value instead\n",
      "\n",
      "See the caveats in the documentation: https://pandas.pydata.org/pandas-docs/stable/user_guide/indexing.html#returning-a-view-versus-a-copy\n",
      "  df['proporcao'] = df[\"Sim? Quanto?\"]/df['Valor Mínimo de Salário']\n"
     ]
    }
   ],
   "source": [
    "for index, row in df.iterrows():\n",
    "    if row['Valor Mínimo de Salário']>0:\n",
    "        df['proporcao'] = df[\"Sim? Quanto?\"]/df['Valor Mínimo de Salário']"
   ]
  },
  {
   "cell_type": "code",
   "execution_count": 36,
   "metadata": {},
   "outputs": [
    {
     "data": {
      "text/html": [
       "<div>\n",
       "<style scoped>\n",
       "    .dataframe tbody tr th:only-of-type {\n",
       "        vertical-align: middle;\n",
       "    }\n",
       "\n",
       "    .dataframe tbody tr th {\n",
       "        vertical-align: top;\n",
       "    }\n",
       "\n",
       "    .dataframe thead th {\n",
       "        text-align: right;\n",
       "    }\n",
       "</style>\n",
       "<table border=\"1\" class=\"dataframe\">\n",
       "  <thead>\n",
       "    <tr style=\"text-align: right;\">\n",
       "      <th></th>\n",
       "      <th>CPF</th>\n",
       "      <th>Deve? (Sim ou Não)</th>\n",
       "      <th>Sim? Quanto?</th>\n",
       "      <th>Score</th>\n",
       "      <th>Chance de Pagamento (%)</th>\n",
       "      <th>Valor Mínimo de Salário</th>\n",
       "      <th>proporcao</th>\n",
       "    </tr>\n",
       "  </thead>\n",
       "  <tbody>\n",
       "    <tr>\n",
       "      <th>0</th>\n",
       "      <td>xxx</td>\n",
       "      <td>sim</td>\n",
       "      <td>18455.10</td>\n",
       "      <td>16</td>\n",
       "      <td>0.86</td>\n",
       "      <td>3001.0</td>\n",
       "      <td>6.149650</td>\n",
       "    </tr>\n",
       "    <tr>\n",
       "      <th>1</th>\n",
       "      <td>xxx</td>\n",
       "      <td>sim</td>\n",
       "      <td>1118.00</td>\n",
       "      <td>237</td>\n",
       "      <td>17.87</td>\n",
       "      <td>3001.0</td>\n",
       "      <td>0.372542</td>\n",
       "    </tr>\n",
       "    <tr>\n",
       "      <th>2</th>\n",
       "      <td>xxx</td>\n",
       "      <td>sim</td>\n",
       "      <td>568.25</td>\n",
       "      <td>240</td>\n",
       "      <td>17.87</td>\n",
       "      <td>4001.0</td>\n",
       "      <td>0.142027</td>\n",
       "    </tr>\n",
       "    <tr>\n",
       "      <th>3</th>\n",
       "      <td>xxx</td>\n",
       "      <td>sim</td>\n",
       "      <td>23169.27</td>\n",
       "      <td>18</td>\n",
       "      <td>0.86</td>\n",
       "      <td>1001.0</td>\n",
       "      <td>23.146124</td>\n",
       "    </tr>\n",
       "    <tr>\n",
       "      <th>4</th>\n",
       "      <td>xxx</td>\n",
       "      <td>sim</td>\n",
       "      <td>8688.08</td>\n",
       "      <td>204</td>\n",
       "      <td>17.87</td>\n",
       "      <td>2001.0</td>\n",
       "      <td>4.341869</td>\n",
       "    </tr>\n",
       "  </tbody>\n",
       "</table>\n",
       "</div>"
      ],
      "text/plain": [
       "   CPF Deve? (Sim ou Não)  Sim? Quanto?  Score  Chance de Pagamento (%)  \\\n",
       "0  xxx                sim      18455.10     16                     0.86   \n",
       "1  xxx                sim       1118.00    237                    17.87   \n",
       "2  xxx                sim        568.25    240                    17.87   \n",
       "3  xxx                sim      23169.27     18                     0.86   \n",
       "4  xxx                sim       8688.08    204                    17.87   \n",
       "\n",
       "   Valor Mínimo de Salário  proporcao  \n",
       "0                   3001.0   6.149650  \n",
       "1                   3001.0   0.372542  \n",
       "2                   4001.0   0.142027  \n",
       "3                   1001.0  23.146124  \n",
       "4                   2001.0   4.341869  "
      ]
     },
     "execution_count": 36,
     "metadata": {},
     "output_type": "execute_result"
    }
   ],
   "source": [
    "df.head()"
   ]
  },
  {
   "cell_type": "markdown",
   "metadata": {},
   "source": [
    "## Criando o ambiente do gráfico"
   ]
  },
  {
   "cell_type": "code",
   "execution_count": 37,
   "metadata": {
    "scrolled": true
   },
   "outputs": [
    {
     "data": {
      "image/png": "[encoded data removed]",
      "text/plain": [
       "<Figure size 720x720 with 1 Axes>"
      ]
     },
     "metadata": {},
     "output_type": "display_data"
    }
   ],
   "source": [
    "# Criando o ambiente do gráfico \n",
    "sns.set_style(\"white\")\n",
    "plt.figure(figsize=(10, 10))\n",
    "\n",
    "# Gráfico de Dispersão\n",
    "# Vamos criar um gráfico de dispersão para avaliar a proporção entre divida/salario e a chance de pagamento\n",
    "# Assim conseguimos incluir o máximo possível de informações no nosso gráfico\n",
    "g = sns.scatterplot(x='proporcao', y=\"Chance de Pagamento (%)\", \n",
    "                    data=df)\n",
    "plt.show()"
   ]
  },
  {
   "cell_type": "code",
   "execution_count": 39,
   "metadata": {},
   "outputs": [
    {
     "data": {
      "text/plain": [
       "Sim? Quanto?               131300.322688\n",
       "Score                         202.334873\n",
       "Chance de Pagamento (%)        27.244594\n",
       "Valor Mínimo de Salário      2435.123958\n",
       "proporcao                            NaN\n",
       "dtype: float64"
      ]
     },
     "execution_count": 39,
     "metadata": {},
     "output_type": "execute_result"
    }
   ],
   "source": [
    "df.std()"
   ]
  },
  {
   "cell_type": "code",
   "execution_count": 43,
   "metadata": {},
   "outputs": [
    {
     "data": {
      "text/plain": [
       "210.1965811965812"
      ]
     },
     "execution_count": 43,
     "metadata": {},
     "output_type": "execute_result"
    }
   ],
   "source": [
    "df['Score'].mean()"
   ]
  },
  {
   "cell_type": "code",
   "execution_count": 42,
   "metadata": {},
   "outputs": [
    {
     "data": {
      "text/plain": [
       "20.201025641025613"
      ]
     },
     "execution_count": 42,
     "metadata": {},
     "output_type": "execute_result"
    }
   ],
   "source": [
    "df['Chance de Pagamento (%)'].mean()"
   ]
  },
  {
   "cell_type": "code",
   "execution_count": 44,
   "metadata": {},
   "outputs": [
    {
     "data": {
      "text/plain": [
       "CPF                        117\n",
       "Deve? (Sim ou Não)         117\n",
       "Sim? Quanto?               117\n",
       "Score                      117\n",
       "Chance de Pagamento (%)    117\n",
       "Valor Mínimo de Salário    117\n",
       "proporcao                  117\n",
       "dtype: int64"
      ]
     },
     "execution_count": 44,
     "metadata": {},
     "output_type": "execute_result"
    }
   ],
   "source": [
    "df.count()"
   ]
  },
  {
   "cell_type": "code",
   "execution_count": null,
   "metadata": {},
   "outputs": [],
   "source": [
    "z"
   ]
  }
 ],
 "metadata": {
  "kernelspec": {
   "display_name": "Python 3",
   "language": "python",
   "name": "python3"
  },
  "language_info": {
   "codemirror_mode": {
    "name": "ipython",
    "version": 3
   },
   "file_extension": ".py",
   "mimetype": "text/x-python",
   "name": "python",
   "nbconvert_exporter": "python",
   "pygments_lexer": "ipython3",
   "version": "3.8.5"
  }
 },
 "nbformat": 4,
 "nbformat_minor": 4
}
